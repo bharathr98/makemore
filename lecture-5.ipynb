{
 "cells": [
  {
   "cell_type": "code",
   "execution_count": 1,
   "metadata": {},
   "outputs": [],
   "source": [
    "import torch \n",
    "import torch.nn.functional as F\n",
    "import matplotlib.pyplot as plt\n",
    "%matplotlib inline"
   ]
  },
  {
   "cell_type": "code",
   "execution_count": 2,
   "metadata": {},
   "outputs": [],
   "source": [
    "with open('names.txt') as f:\n",
    "    names = f.readlines()\n",
    "    names = [name.strip('\\n') for name in names]"
   ]
  },
  {
   "cell_type": "code",
   "execution_count": 3,
   "metadata": {},
   "outputs": [],
   "source": [
    "# alternate implementation, used by Andrej\n",
    "names = open('names.txt', 'r').read().splitlines()"
   ]
  },
  {
   "cell_type": "code",
   "execution_count": 4,
   "metadata": {},
   "outputs": [],
   "source": [
    "# prepare the vocab\n",
    "tokens = ['.'] + sorted(set(''.join(names)))\n",
    "stoi = {}\n",
    "itos = {}\n",
    "for i, token in enumerate(tokens):\n",
    "    stoi[token] = i\n",
    "    itos[i] = token"
   ]
  },
  {
   "cell_type": "code",
   "execution_count": 99,
   "metadata": {},
   "outputs": [],
   "source": [
    "context_width = 8\n",
    "def buildDataset(names):\n",
    "    X, Y = [], []\n",
    "    for name in names:\n",
    "        chars = [0] * context_width\n",
    "        for x in name + '.':\n",
    "            xi = stoi[x]\n",
    "            X.append(chars)\n",
    "            Y.append(xi)\n",
    "            chars = chars[1:] + [xi]\n",
    "    X = torch.tensor(X)\n",
    "    Y = torch.tensor(Y)\n",
    "    return (X, Y)"
   ]
  },
  {
   "cell_type": "code",
   "execution_count": 100,
   "metadata": {},
   "outputs": [],
   "source": [
    "import random\n",
    "\n",
    "random.shuffle(names)\n",
    "\n",
    "n1 = int(0.8*len(names))\n",
    "n2 = int(0.9*len(names))\n",
    "\n",
    "Xtr, Ytr = buildDataset(names[:n1])\n",
    "Xval, Yval = buildDataset(names[n1:n2])\n",
    "Xtest, Ytest = buildDataset(names[n2:])"
   ]
  },
  {
   "cell_type": "code",
   "execution_count": 101,
   "metadata": {},
   "outputs": [],
   "source": [
    "import random\n",
    "random.shuffle(names)\n",
    "\n",
    "samples = len(names)\n",
    "\n",
    "train = 0.8\n",
    "val = 0.9\n",
    "test = 1.0\n",
    "\n",
    "Xtr, Ytr = buildDataset(names[:int(train*samples)])\n",
    "Xval, Yval = buildDataset(names[int(train*samples):int(val*samples)])\n",
    "Xtest, Ytest = buildDataset(names[int(val*samples):])"
   ]
  },
  {
   "cell_type": "code",
   "execution_count": 102,
   "metadata": {},
   "outputs": [],
   "source": [
    "class Linear:\n",
    "    def __init__(self, fan_in, fan_out, bias = True):\n",
    "        self.weight = torch.randn((fan_in, fan_out)) / (fan_in ** 0.5)\n",
    "        self.bias = torch.randn((fan_out,)) * 0.1 if bias else None\n",
    "    def __call__(self, x):\n",
    "        self.out = x @ self.weight\n",
    "        if self.bias is not None:\n",
    "            self.out += self.bias\n",
    "        return self.out\n",
    "    def parameters(self):\n",
    "        return [self.weight] + ([] if self.bias is None else [self.bias])\n",
    "    \n",
    "class Tanh:\n",
    "    def __call__(self, x):\n",
    "        self.out = torch.tanh(x)\n",
    "        return self.out\n",
    "    def parameters(self):\n",
    "        return []\n",
    "class BatchNorm1d:\n",
    "    def __init__(self, dim, eps=1e-5, momentum=0.1):\n",
    "        self.eps = eps # This is for the offset of the variance in the denominator \n",
    "        self.momentum = momentum # This is the rate of update of the running mean and variance \n",
    "        self.training = True # To know which mean and variance to return\n",
    "        self.bngain = torch.ones(dim) # Gain of the batched variable. To be learnt\n",
    "        self.bnbias = torch.zeros(dim) # Bias of the batched variable. To be learnt\n",
    "        self.running_mean = torch.ones(dim)\n",
    "        self.running_var = torch.zeros(dim)\n",
    "    def __call__(self, x):\n",
    "        if self.training:\n",
    "            # Calculate the batch mean and var\n",
    "            batch_mean = x.mean(0, keepdims=True)\n",
    "            batch_var = x.var(0, keepdims=True)\n",
    "            with torch.no_grad():\n",
    "                # Update the running mean\n",
    "                self.running_mean = (1-self.momentum) * self.running_mean + self.momentum * batch_mean\n",
    "                self.running_var = (1-self.momentum) * self.running_var + self.momentum * batch_var\n",
    "        else:\n",
    "            batch_mean = self.running_mean\n",
    "            batch_var = self.running_var\n",
    "        # Calculate yhat\n",
    "        self.xhat = (x - batch_mean) / (torch.sqrt(batch_var + self.eps))\n",
    "        self.yhat = self.bngain * self.xhat + self.bnbias\n",
    "\n",
    "        return self.yhat\n",
    "    \n",
    "    def parameters(self):\n",
    "        return [self.bngain, self.bnbias]\n",
    "\n",
    "class Embedding:\n",
    "    def __init__(self, vocab_size, n_embd):\n",
    "        self.weight = torch.randn((vocab_size, n_embd))\n",
    "    def __call__(self, x):\n",
    "        self.out = self.weight[x]\n",
    "        return self.out\n",
    "    def parameters(self):\n",
    "        return [self.weight]\n",
    "class Flatten:\n",
    "    def __init__(self, newShape):\n",
    "        self.newShape = newShape\n",
    "    def __call__(self, embeddingMatrix):\n",
    "        self.out = embeddingMatrix.view(self.newShape)\n",
    "        return self.out\n",
    "    def parameters(self):\n",
    "        return []\n",
    "\n",
    "class Sequential:\n",
    "    def __init__(self, layers):\n",
    "        self.layers = layers\n",
    "    def __call__(self,x):\n",
    "        for layer in self.layers:\n",
    "            x = layer(x)\n",
    "        self.out = x\n",
    "        return self.out\n",
    "    def parameters(self):\n",
    "        return [p for layer in self.layers for p in layer.parameters()]"
   ]
  },
  {
   "cell_type": "code",
   "execution_count": 103,
   "metadata": {},
   "outputs": [],
   "source": [
    "vocab_size = len(stoi)\n",
    "n_embd = 10\n",
    "hidden_dim = 100"
   ]
  },
  {
   "cell_type": "code",
   "execution_count": 104,
   "metadata": {
    "scrolled": true
   },
   "outputs": [],
   "source": [
    "layers = [Embedding(vocab_size, n_embd), Flatten((-1, context_width*n_embd)), Linear(n_embd*context_width, hidden_dim), BatchNorm1d(hidden_dim), Tanh(),\n",
    "         Linear(hidden_dim, vocab_size)]\n",
    "\n",
    "model = Sequential(layers)\n",
    "\n",
    "for p in model.parameters():\n",
    "    p.requires_grad_()"
   ]
  },
  {
   "cell_type": "code",
   "execution_count": 105,
   "metadata": {},
   "outputs": [
    {
     "name": "stdout",
     "output_type": "stream",
     "text": [
      "0/20000 - loss = 3.6602959632873535\n",
      "2000/20000 - loss = 2.2810440063476562\n",
      "4000/20000 - loss = 2.5614166259765625\n",
      "6000/20000 - loss = 2.2709460258483887\n",
      "8000/20000 - loss = 2.0400986671447754\n",
      "10000/20000 - loss = 2.2368721961975098\n",
      "12000/20000 - loss = 2.1171722412109375\n",
      "14000/20000 - loss = 2.0939950942993164\n",
      "16000/20000 - loss = 1.7975287437438965\n",
      "18000/20000 - loss = 2.1353085041046143\n"
     ]
    }
   ],
   "source": [
    "epochs = 20000\n",
    "minibatch_size = 64\n",
    "lr = 0.1\n",
    "lossi = []\n",
    "for step in range(epochs):\n",
    "    # Create minibatch\n",
    "    minibatch = torch.randint(Xtr.shape[0],(minibatch_size,))\n",
    "    \n",
    "    Xb = Xtr[minibatch]\n",
    "    Yb = Ytr[minibatch]\n",
    "    \n",
    "    # Forward pass\n",
    "    logits = model(Xb)\n",
    "    \n",
    "    # Loss\n",
    "    loss = F.cross_entropy(logits, Yb)\n",
    "    for p in model.parameters():\n",
    "        p.grad = None\n",
    "    loss.backward()\n",
    "    \n",
    "    # Update weights\n",
    "    for p in model.parameters():\n",
    "        p.data -= lr * p.grad\n",
    "    \n",
    "    # Statistics\n",
    "    lossi.append(loss.item())\n",
    "    if step % 2000 == 0:\n",
    "        print(f'{step}/{epochs} - loss = {loss.item()}')"
   ]
  },
  {
   "cell_type": "code",
   "execution_count": 106,
   "metadata": {},
   "outputs": [
    {
     "data": {
      "text/plain": [
       "[<matplotlib.lines.Line2D at 0x1487b53a0>]"
      ]
     },
     "execution_count": 106,
     "metadata": {},
     "output_type": "execute_result"
    },
    {
     "data": {
      "image/png": "[encoded data removed]",
      "text/plain": [
       "<Figure size 432x288 with 1 Axes>"
      ]
     },
     "metadata": {
      "needs_background": "light"
     },
     "output_type": "display_data"
    }
   ],
   "source": [
    "window_size = 1000\n",
    "plt.plot(torch.tensor(lossi[:20000]).view(-1, window_size).mean(1))"
   ]
  },
  {
   "cell_type": "markdown",
   "metadata": {},
   "source": [
    "Now let us start to implement WaveNet"
   ]
  },
  {
   "cell_type": "code",
   "execution_count": 132,
   "metadata": {},
   "outputs": [],
   "source": [
    "wavenetLayers = [\n",
    "    Embedding(vocab_size, n_embd),\n",
    "    Flatten((-1, context_width // 2, 2*n_embd)),\n",
    "    Linear(2*n_embd, hidden_dim),\n",
    "    BatchNorm1d(hidden_dim),\n",
    "    Tanh(),\n",
    "    Flatten((-1, hidden_dim // 4, 4*n_embd)),\n",
    "    Linear(4*n_embd, hidden_dim),\n",
    "    BatchNorm1d(hidden_dim),\n",
    "    Tanh(),\n",
    "    Flatten((-1, hidden_dim // 8, 8*n_embd)),\n",
    "    Linear(8*n_embd, hidden_dim),\n",
    "    BatchNorm1d(hidden_dim),\n",
    "    Tanh(),\n",
    "    Linear(hidden_dim, vocab_size)\n",
    "]\n",
    "wavenet = Sequential(wavenetLayers)"
   ]
  },
  {
   "cell_type": "code",
   "execution_count": 113,
   "metadata": {},
   "outputs": [
    {
     "data": {
      "text/plain": [
       "6897"
      ]
     },
     "execution_count": 113,
     "metadata": {},
     "output_type": "execute_result"
    }
   ],
   "source": [
    "p = sum([param.nelement() for param in wavenet.parameters()])\n",
    "p"
   ]
  },
  {
   "cell_type": "code",
   "execution_count": 120,
   "metadata": {},
   "outputs": [
    {
     "data": {
      "text/plain": [
       "torch.Size([100, 27])"
      ]
     },
     "execution_count": 120,
     "metadata": {},
     "output_type": "execute_result"
    }
   ],
   "source": [
    "wavenetLayers[-1].weight.shape"
   ]
  },
  {
   "cell_type": "code",
   "execution_count": 133,
   "metadata": {},
   "outputs": [
    {
     "ename": "RuntimeError",
     "evalue": "shape '[-1, 25, 40]' is invalid for input of size 25600",
     "output_type": "error",
     "traceback": [
      "\u001b[0;31m---------------------------------------------------------------------------\u001b[0m",
      "\u001b[0;31mRuntimeError\u001b[0m                              Traceback (most recent call last)",
      "Input \u001b[0;32mIn [133]\u001b[0m, in \u001b[0;36m<cell line: 5>\u001b[0;34m()\u001b[0m\n\u001b[1;32m     10\u001b[0m Yb \u001b[38;5;241m=\u001b[39m Ytr[minibatch]\n\u001b[1;32m     12\u001b[0m \u001b[38;5;66;03m# Forward pass\u001b[39;00m\n\u001b[0;32m---> 13\u001b[0m logits \u001b[38;5;241m=\u001b[39m \u001b[43mwavenet\u001b[49m\u001b[43m(\u001b[49m\u001b[43mXb\u001b[49m\u001b[43m)\u001b[49m\n\u001b[1;32m     15\u001b[0m \u001b[38;5;66;03m# Loss\u001b[39;00m\n\u001b[1;32m     16\u001b[0m loss \u001b[38;5;241m=\u001b[39m F\u001b[38;5;241m.\u001b[39mcross_entropy(logits, Yb)\n",
      "Input \u001b[0;32mIn [102]\u001b[0m, in \u001b[0;36mSequential.__call__\u001b[0;34m(self, x)\u001b[0m\n\u001b[1;32m     69\u001b[0m \u001b[38;5;28;01mdef\u001b[39;00m \u001b[38;5;21m__call__\u001b[39m(\u001b[38;5;28mself\u001b[39m,x):\n\u001b[1;32m     70\u001b[0m     \u001b[38;5;28;01mfor\u001b[39;00m layer \u001b[38;5;129;01min\u001b[39;00m \u001b[38;5;28mself\u001b[39m\u001b[38;5;241m.\u001b[39mlayers:\n\u001b[0;32m---> 71\u001b[0m         x \u001b[38;5;241m=\u001b[39m \u001b[43mlayer\u001b[49m\u001b[43m(\u001b[49m\u001b[43mx\u001b[49m\u001b[43m)\u001b[49m\n\u001b[1;32m     72\u001b[0m     \u001b[38;5;28mself\u001b[39m\u001b[38;5;241m.\u001b[39mout \u001b[38;5;241m=\u001b[39m x\n\u001b[1;32m     73\u001b[0m     \u001b[38;5;28;01mreturn\u001b[39;00m \u001b[38;5;28mself\u001b[39m\u001b[38;5;241m.\u001b[39mout\n",
      "Input \u001b[0;32mIn [102]\u001b[0m, in \u001b[0;36mFlatten.__call__\u001b[0;34m(self, embeddingMatrix)\u001b[0m\n\u001b[1;32m     60\u001b[0m \u001b[38;5;28;01mdef\u001b[39;00m \u001b[38;5;21m__call__\u001b[39m(\u001b[38;5;28mself\u001b[39m, embeddingMatrix):\n\u001b[0;32m---> 61\u001b[0m     \u001b[38;5;28mself\u001b[39m\u001b[38;5;241m.\u001b[39mout \u001b[38;5;241m=\u001b[39m \u001b[43membeddingMatrix\u001b[49m\u001b[38;5;241;43m.\u001b[39;49m\u001b[43mview\u001b[49m\u001b[43m(\u001b[49m\u001b[38;5;28;43mself\u001b[39;49m\u001b[38;5;241;43m.\u001b[39;49m\u001b[43mnewShape\u001b[49m\u001b[43m)\u001b[49m\n\u001b[1;32m     62\u001b[0m     \u001b[38;5;28;01mreturn\u001b[39;00m \u001b[38;5;28mself\u001b[39m\u001b[38;5;241m.\u001b[39mout\n",
      "\u001b[0;31mRuntimeError\u001b[0m: shape '[-1, 25, 40]' is invalid for input of size 25600"
     ]
    }
   ],
   "source": [
    "epochs = 20000\n",
    "minibatch_size = 64\n",
    "lr = 0.1\n",
    "lossi = []\n",
    "for step in range(epochs):\n",
    "    # Create minibatch\n",
    "    minibatch = torch.randint(Xtr.shape[0],(minibatch_size,))\n",
    "    \n",
    "    Xb = Xtr[minibatch]\n",
    "    Yb = Ytr[minibatch]\n",
    "    \n",
    "    # Forward pass\n",
    "    logits = wavenet(Xb)\n",
    "    \n",
    "    # Loss\n",
    "    loss = F.cross_entropy(logits, Yb)\n",
    "    for p in wavenet.parameters():\n",
    "        p.grad = None\n",
    "    loss.backward()\n",
    "    \n",
    "    # Update weights\n",
    "    for p in wavenet.parameters():\n",
    "        p.data -= lr * p.grad\n",
    "    \n",
    "    # Statistics\n",
    "    lossi.append(loss.item())\n",
    "    if step % 2000 == 0:\n",
    "        print(f'{step}/{epochs} - loss = {loss.item()}')\n",
    "    break"
   ]
  },
  {
   "cell_type": "code",
   "execution_count": 131,
   "metadata": {},
   "outputs": [
    {
     "name": "stdout",
     "output_type": "stream",
     "text": [
      "torch.Size([64, 8, 10])\n",
      "torch.Size([64, 4, 20])\n",
      "torch.Size([64, 4, 100])\n",
      "torch.Size([64, 4, 100])\n",
      "torch.Size([64, 4, 100])\n",
      "torch.Size([320, 2, 40])\n",
      "torch.Size([320, 2, 100])\n",
      "torch.Size([320, 2, 100])\n",
      "torch.Size([320, 2, 100])\n",
      "torch.Size([800, 1, 80])\n",
      "torch.Size([800, 1, 100])\n",
      "torch.Size([800, 1, 100])\n",
      "torch.Size([800, 1, 100])\n",
      "torch.Size([800, 1, 27])\n"
     ]
    }
   ],
   "source": [
    "x = Xb\n",
    "for layer in wavenetLayers:\n",
    "    x = layer(x)\n",
    "    print(x.shape)"
   ]
  },
  {
   "cell_type": "code",
   "execution_count": null,
   "metadata": {},
   "outputs": [],
   "source": []
  }
 ],
 "metadata": {
  "kernelspec": {
   "display_name": "Python 3 (ipykernel)",
   "language": "python",
   "name": "python3"
  },
  "language_info": {
   "codemirror_mode": {
    "name": "ipython",
    "version": 3
   },
   "file_extension": ".py",
   "mimetype": "text/x-python",
   "name": "python",
   "nbconvert_exporter": "python",
   "pygments_lexer": "ipython3",
   "version": "3.9.18"
  }
 },
 "nbformat": 4,
 "nbformat_minor": 2
}

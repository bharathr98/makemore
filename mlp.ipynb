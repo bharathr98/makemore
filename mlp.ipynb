{
 "cells": [
  {
   "cell_type": "code",
   "execution_count": 1,
   "id": "1ee1a6eb",
   "metadata": {},
   "outputs": [],
   "source": [
    "import torch\n",
    "import torch.nn.functional as F\n",
    "import matplotlib.pyplot as plt\n",
    "%matplotlib inline"
   ]
  },
  {
   "cell_type": "code",
   "execution_count": 2,
   "id": "2562b2c3",
   "metadata": {},
   "outputs": [],
   "source": [
    "names = open('names.txt','r').read().splitlines()"
   ]
  },
  {
   "cell_type": "code",
   "execution_count": 3,
   "id": "09e403d7",
   "metadata": {},
   "outputs": [
    {
     "data": {
      "text/plain": [
       "{1: 'a',\n",
       " 2: 'b',\n",
       " 3: 'c',\n",
       " 4: 'd',\n",
       " 5: 'e',\n",
       " 6: 'f',\n",
       " 7: 'g',\n",
       " 8: 'h',\n",
       " 9: 'i',\n",
       " 10: 'j',\n",
       " 11: 'k',\n",
       " 12: 'l',\n",
       " 13: 'm',\n",
       " 14: 'n',\n",
       " 15: 'o',\n",
       " 16: 'p',\n",
       " 17: 'q',\n",
       " 18: 'r',\n",
       " 19: 's',\n",
       " 20: 't',\n",
       " 21: 'u',\n",
       " 22: 'v',\n",
       " 23: 'w',\n",
       " 24: 'x',\n",
       " 25: 'y',\n",
       " 26: 'z',\n",
       " 0: '.'}"
      ]
     },
     "execution_count": 3,
     "metadata": {},
     "output_type": "execute_result"
    }
   ],
   "source": [
    "chars = sorted(list(set(''.join(names))))\n",
    "stoi = {s:i+1 for i,s in enumerate(chars)}\n",
    "stoi['.'] = 0\n",
    "itos = {i+1:s for i,s in enumerate(chars)}\n",
    "itos[0] = '.'\n",
    "itos"
   ]
  },
  {
   "cell_type": "code",
   "execution_count": 4,
   "id": "228eba49",
   "metadata": {},
   "outputs": [
    {
     "name": "stdout",
     "output_type": "stream",
     "text": [
      "emma\n",
      "... ---> e\n",
      "..e ---> m\n",
      ".em ---> m\n",
      "emm ---> a\n",
      "mma ---> .\n",
      "olivia\n",
      "... ---> o\n",
      "..o ---> l\n",
      ".ol ---> i\n",
      "oli ---> v\n",
      "liv ---> i\n",
      "ivi ---> a\n",
      "via ---> .\n",
      "ava\n",
      "... ---> a\n",
      "..a ---> v\n",
      ".av ---> a\n",
      "ava ---> .\n",
      "isabella\n",
      "... ---> i\n",
      "..i ---> s\n",
      ".is ---> a\n",
      "isa ---> b\n",
      "sab ---> e\n",
      "abe ---> l\n",
      "bel ---> l\n",
      "ell ---> a\n",
      "lla ---> .\n",
      "sophia\n",
      "... ---> s\n",
      "..s ---> o\n",
      ".so ---> p\n",
      "sop ---> h\n",
      "oph ---> i\n",
      "phi ---> a\n",
      "hia ---> .\n"
     ]
    }
   ],
   "source": [
    "# building the dataset\n",
    "context_length = 3\n",
    "X, Y = [], []\n",
    "\n",
    "for name in names[:5]:\n",
    "    print(name)\n",
    "    context = [0] * context_length\n",
    "    for ch in name + \".\":\n",
    "        ix = stoi[ch]\n",
    "        X.append(context)\n",
    "        Y.append(ix)\n",
    "        print(''.join(itos[i] for i in context), '--->', itos[ix])\n",
    "        context = context[1:] + [ix]\n",
    "        \n",
    "X = torch.tensor(X)\n",
    "Y = torch.tensor(Y)"
   ]
  },
  {
   "cell_type": "code",
   "execution_count": 7,
   "id": "e3eb3fcd",
   "metadata": {},
   "outputs": [
    {
     "data": {
      "text/plain": [
       "torch.Size([32, 3])"
      ]
     },
     "execution_count": 7,
     "metadata": {},
     "output_type": "execute_result"
    }
   ],
   "source": [
    "X.shape"
   ]
  },
  {
   "cell_type": "markdown",
   "id": "4dcea42e",
   "metadata": {},
   "source": [
    "We have two equivalent ways of going from the vocabulary to the embedding space. One is to one-hot encode the word into vocabulary sized vector and then act a matrix on it to reduce to the embedding/feature vector. Or the equivalent is to just implement in the matrix and then index into it (because the one-hot encoding really is just implementing a lookup table)"
   ]
  },
  {
   "cell_type": "code",
   "execution_count": 11,
   "id": "d436fcff",
   "metadata": {},
   "outputs": [
    {
     "data": {
      "text/plain": [
       "torch.Size([32, 3, 2])"
      ]
     },
     "execution_count": 11,
     "metadata": {},
     "output_type": "execute_result"
    }
   ],
   "source": [
    "# Mapping to a two-dimensional feature space\n",
    "C = torch.randn((27,2))\n",
    "emb = C[X]\n",
    "emb.shape"
   ]
  },
  {
   "cell_type": "markdown",
   "id": "52b708df",
   "metadata": {},
   "source": [
    "We now want to take the three 2-dimensional feature vectors and feed it into a layer of 100 neurons. For now we implement this by thinking of concatenating the three vectors (so the input is a 6 dimensional vector) and then see how to cast the [32,3,2] to something that can multiply [6,100]"
   ]
  },
  {
   "cell_type": "code",
   "execution_count": 13,
   "id": "12a66b06",
   "metadata": {},
   "outputs": [],
   "source": [
    "W1 = torch.randn([6,100])\n",
    "b1 = torch.randn(100)"
   ]
  },
  {
   "cell_type": "code",
   "execution_count": 9,
   "id": "7060d024",
   "metadata": {},
   "outputs": [
    {
     "data": {
      "text/plain": [
       "tensor([[-4.3101e-01, -1.3525e+00, -7.8710e-01, -1.2069e+00,  1.0621e-01,\n",
       "         -7.4190e-01, -9.9009e-02, -5.2533e-01, -9.2181e-01, -2.8947e-01,\n",
       "          6.5697e-01,  6.1725e-01,  1.3430e+00, -5.6491e-01, -9.1420e-01,\n",
       "         -1.2973e-01, -8.0643e-02,  2.5235e-01,  1.4371e+00, -7.1165e-01,\n",
       "         -6.5689e-01,  6.9012e-01,  7.5710e-02, -6.9052e-01,  2.9509e+00,\n",
       "          1.5264e+00, -3.4849e-01, -7.5348e-01, -5.4244e-01,  9.8465e-01,\n",
       "          7.3840e-01, -1.9605e+00, -2.5703e-01,  1.4708e+00,  6.8091e-01,\n",
       "         -7.4307e-01,  2.0809e-01, -3.5768e-01, -2.8002e-02,  2.9015e+00,\n",
       "         -7.6218e-01,  5.3828e-02, -3.2856e-01,  5.8546e-04, -8.1318e-01,\n",
       "          1.9539e+00,  9.0658e-01,  1.4290e-01, -5.0203e-01,  1.9928e+00,\n",
       "         -4.5112e-01,  1.0846e+00, -1.1805e+00,  7.3254e-01,  9.5423e-03,\n",
       "         -4.1491e-01,  3.3272e-01, -6.9578e-01, -8.1315e-01,  1.2054e+00,\n",
       "         -2.2305e+00, -9.2885e-01, -1.7251e+00, -8.7128e-01,  8.0231e-01,\n",
       "         -1.5751e+00, -1.3395e+00, -8.8326e-01,  1.2818e-01,  7.0661e-01,\n",
       "         -1.2078e+00,  4.9463e-01,  2.7065e-01,  2.4747e+00,  4.9379e-01,\n",
       "          1.2974e+00, -1.3203e+00, -9.9900e-01, -8.5058e-01,  6.0742e-02,\n",
       "          5.9344e-01, -1.1221e+00, -2.8047e+00, -1.0815e-01, -7.2017e-01,\n",
       "         -2.0132e-01, -1.2318e+00, -1.0714e+00,  5.3757e-01, -9.6021e-01,\n",
       "          7.1962e-01, -3.0590e-01, -1.8531e-01,  2.8819e-01, -1.1573e-01,\n",
       "         -5.3654e-01,  2.9706e-01, -5.8251e-01, -1.3784e-01,  4.8884e-01],\n",
       "        [ 1.2146e-01,  2.3077e+00, -2.8906e-02, -1.2260e+00,  5.4874e-01,\n",
       "          9.9564e-01,  3.7002e-01,  3.4095e-02, -1.0571e+00, -3.3209e-02,\n",
       "          3.7028e-01,  1.3890e+00,  2.4218e-01,  1.1773e+00, -6.2148e-01,\n",
       "          5.7337e-02,  6.7841e-01,  1.5096e+00, -1.4675e+00, -1.6267e-01,\n",
       "         -1.9506e-02,  2.1177e-01, -8.8875e-01,  6.1385e-01,  4.2327e-01,\n",
       "          2.7841e-01, -3.2152e-01,  3.9828e-02, -1.8417e-01,  9.9766e-01,\n",
       "          6.6770e-01, -8.9155e-01, -3.8098e-01, -1.1084e+00,  3.4043e-01,\n",
       "          1.8836e+00,  2.1724e+00,  1.0936e+00,  1.4058e+00,  6.2481e-01,\n",
       "         -6.2315e-01,  1.8105e-01,  1.6379e+00,  1.1848e-01,  4.7694e-02,\n",
       "          3.8610e-02,  3.7085e-01, -6.2833e-01,  8.4713e-01, -3.8761e-01,\n",
       "         -6.4720e-01, -1.0845e+00,  9.7287e-01, -1.1841e+00, -8.0230e-01,\n",
       "          1.9247e-01, -6.2911e-01, -3.2183e-01,  3.1043e-01,  2.0847e-02,\n",
       "         -1.3040e-01,  1.0018e+00, -3.6975e-01, -5.2037e-01,  1.3793e+00,\n",
       "         -1.0131e+00, -6.4423e-01,  1.2010e+00, -1.5094e-01, -2.1886e+00,\n",
       "         -5.7408e-01,  1.0298e+00, -6.5030e-01,  1.1365e+00, -1.0331e+00,\n",
       "          1.3501e+00, -6.5568e-01,  1.5193e+00,  3.2653e-01,  5.2377e-01,\n",
       "          2.1116e-01,  1.6601e-01,  7.2770e-01,  5.9812e-01, -3.2910e-01,\n",
       "          1.5990e-02, -5.5500e-01,  2.7572e-02, -4.3627e-01,  6.2992e-01,\n",
       "          3.6954e+00,  1.2599e+00,  2.3363e-01, -1.5557e+00, -1.6103e+00,\n",
       "         -7.9833e-01,  4.5102e-01,  9.9323e-01, -9.2789e-01,  6.0648e-01],\n",
       "        [-2.7434e-01,  1.4357e-01,  2.4634e+00,  4.3400e-01,  1.7312e+00,\n",
       "         -2.5455e-01,  1.0084e+00, -2.8202e-01,  1.0086e+00,  8.8498e-02,\n",
       "         -3.8005e-01, -1.7739e+00, -1.2849e-01, -7.3853e-01, -6.2084e-01,\n",
       "         -6.7186e-01, -1.5226e+00, -1.2367e+00,  4.8939e-01,  1.4958e+00,\n",
       "         -2.2782e-01,  2.2565e+00,  1.0185e+00,  1.9453e-01,  1.0108e+00,\n",
       "         -1.0205e+00,  1.0840e+00,  1.8634e-01,  1.2924e+00,  6.9525e-01,\n",
       "         -3.3520e-01,  2.1167e+00, -5.2585e-01,  1.9602e-01, -6.4700e-01,\n",
       "          3.3721e-01,  7.5009e-01,  9.7047e-02,  3.0209e-01,  8.1743e-01,\n",
       "         -1.9211e+00,  3.7704e-01, -5.6527e-01, -6.1706e-01, -1.1098e+00,\n",
       "          1.9177e-01, -3.4860e-01,  1.6618e+00, -9.8427e-01, -4.7122e-01,\n",
       "         -1.8600e-02,  2.9435e-01, -1.8941e+00,  1.0387e+00, -6.5708e-01,\n",
       "         -6.6705e-01, -1.4557e+00, -1.6643e+00, -1.6440e+00,  1.2387e-01,\n",
       "          1.2321e+00, -4.5641e-02,  1.3757e+00, -1.1208e+00,  1.0878e+00,\n",
       "         -8.2236e-01, -1.4346e+00,  9.7540e-01, -1.5513e-01, -2.6538e+00,\n",
       "         -6.0666e-01,  9.0758e-03, -2.5567e-01,  2.0827e+00,  4.8683e-01,\n",
       "          1.0782e+00,  2.0812e+00, -4.7919e-01, -3.7644e-01, -2.5199e-01,\n",
       "         -8.4847e-01,  1.2843e+00, -4.3345e-01,  3.7939e-01, -7.2828e-01,\n",
       "         -5.5474e-01, -1.1260e+00, -2.6367e-01,  9.3635e-01,  1.2945e+00,\n",
       "          9.6206e-01,  1.4510e-01, -2.4219e+00,  5.7306e-01, -6.6508e-01,\n",
       "          6.3897e-01, -6.5305e-01, -1.7422e+00,  6.7817e-01,  5.5735e-01],\n",
       "        [ 2.8087e-01,  1.7585e-01,  1.8023e-02, -1.4633e+00,  2.0401e-01,\n",
       "         -7.3336e-01,  1.6086e-01,  3.2143e-01,  7.7571e-01, -3.5434e-01,\n",
       "         -4.8581e-01,  1.0589e+00,  3.1494e-01,  1.7409e-02,  9.2021e-01,\n",
       "         -1.9738e+00,  4.0239e-01, -3.8861e-01, -1.4187e+00,  1.4978e+00,\n",
       "         -1.7691e+00, -2.2661e+00, -8.3291e-01,  1.5253e+00,  3.4529e-01,\n",
       "          1.6157e+00, -3.2452e-01,  8.6936e-01,  7.4426e-01,  1.0403e-01,\n",
       "         -1.1242e+00, -6.9434e-02, -1.0869e+00, -3.1856e-02,  2.0431e+00,\n",
       "         -4.7155e-01, -1.8654e+00,  1.6968e+00, -1.2906e+00, -1.1972e-01,\n",
       "         -1.5899e-01,  4.8750e-01, -2.9699e-02,  5.0343e-01, -5.8679e-01,\n",
       "          1.3892e+00,  7.8592e-01,  2.4640e-01,  1.3114e-01, -5.6460e-01,\n",
       "          1.6886e-01,  8.1259e-02, -3.5826e-01, -9.6779e-02, -1.4717e+00,\n",
       "         -8.6858e-02, -2.5631e-01, -1.0594e+00,  2.1076e-01, -3.4372e-01,\n",
       "          9.1304e-01, -4.4727e-01,  8.6745e-01,  4.5755e-02, -2.3866e-01,\n",
       "          2.1665e-01,  1.3983e+00, -5.2899e-01, -1.6041e+00,  1.6334e+00,\n",
       "          2.4736e-02, -7.2132e-01,  2.1499e+00, -1.1746e+00, -2.3202e+00,\n",
       "         -8.3827e-01,  9.5621e-01, -1.1823e+00,  1.1642e+00,  9.3566e-01,\n",
       "          9.5339e-01,  6.8126e-01,  8.7797e-01,  5.7171e-01,  1.1276e+00,\n",
       "          2.2020e-01,  1.4245e-02, -8.3059e-01,  4.9454e-01,  1.6892e+00,\n",
       "          3.6987e-01,  4.4251e-02,  1.1021e+00,  1.4458e-02, -8.5700e-01,\n",
       "         -1.8169e+00, -2.4805e-01,  1.8771e+00,  1.0365e+00, -6.0172e-01],\n",
       "        [-1.2918e+00, -9.1493e-01,  1.5535e+00,  3.0130e-01, -3.8400e-01,\n",
       "         -4.4273e-01,  3.2380e-01,  2.6474e-01, -1.1871e+00, -1.7884e+00,\n",
       "         -1.2326e+00,  3.6280e-01,  1.4979e-01, -4.0213e-01, -2.5078e-01,\n",
       "          1.0435e+00,  3.7517e-01,  1.0297e+00, -1.5624e+00,  1.3328e+00,\n",
       "          3.4611e-01,  1.0086e+00, -9.5273e-01, -3.6875e-01,  1.3648e+00,\n",
       "          5.1193e-01,  1.3937e+00,  1.5919e+00,  1.0487e+00, -3.1847e-01,\n",
       "          9.1889e-01,  5.8138e-01, -5.0361e-01, -2.4808e+00, -5.6707e-01,\n",
       "         -1.9368e+00,  8.4806e-01, -1.1286e+00,  7.5964e-01,  4.2431e-01,\n",
       "         -1.8273e+00,  5.7228e-01,  8.9936e-01,  7.5072e-01, -7.7654e-01,\n",
       "          1.2358e-01, -1.0847e-01, -8.9996e-02,  1.2595e+00,  7.6438e-01,\n",
       "          1.0582e-01, -6.4517e-01,  1.3027e-01, -1.1114e-02, -5.7566e-02,\n",
       "         -2.2657e-01,  1.4351e+00, -1.2780e+00,  5.7161e-02,  8.5648e-01,\n",
       "         -6.0967e-01, -5.9497e-01, -1.7512e-01, -7.2514e-01,  9.8652e-01,\n",
       "          2.1230e+00, -4.5614e-01,  4.2300e-01,  9.4974e-01, -1.4233e+00,\n",
       "         -3.7114e-01, -1.9249e-01,  1.5163e+00,  2.4920e-01,  3.2591e-01,\n",
       "          1.2644e+00, -8.5599e-01, -1.0402e+00, -1.1499e+00, -2.2371e+00,\n",
       "         -1.0512e+00,  1.2790e+00, -1.0434e+00,  8.3827e-02,  2.0922e-01,\n",
       "          3.6037e-01, -6.1372e-01, -1.0809e+00, -9.5210e-01, -2.1687e-01,\n",
       "          1.2888e+00,  3.3793e-01, -1.2236e-01,  5.2162e-01,  5.8511e-01,\n",
       "         -6.2851e-01, -3.6388e-01,  6.2186e-01,  1.0806e+00, -1.8210e-02],\n",
       "        [ 1.3545e+00,  2.5330e-01, -2.7667e-01,  1.1429e+00, -6.2463e-01,\n",
       "          2.7797e-01,  1.4646e-01,  4.2143e-01, -1.3318e+00,  1.6367e-01,\n",
       "          7.6796e-02,  1.4382e+00,  1.2662e-01,  2.0162e-01,  3.8464e-01,\n",
       "         -4.9720e-01, -2.9049e-01,  2.1103e-01, -1.7230e-01, -6.6889e-01,\n",
       "         -7.9629e-01, -4.4766e-01,  1.4964e+00,  5.5880e-01,  8.1255e-01,\n",
       "         -1.0640e+00, -1.8245e-01, -6.5883e-01,  3.0713e-01,  1.1156e+00,\n",
       "         -1.7609e-01,  1.1072e+00, -6.6677e-01,  1.1452e+00,  2.0054e-01,\n",
       "         -2.2389e+00,  1.8213e+00,  9.7543e-01,  1.5985e+00, -4.6698e-01,\n",
       "         -4.3532e-01,  1.3957e+00, -6.3590e-01,  3.8783e-01,  5.4695e-01,\n",
       "          7.2358e-01, -3.7554e-01,  8.7070e-01,  8.9215e-01,  7.5040e-01,\n",
       "         -1.5653e-01,  1.9834e-01, -2.4773e-01, -1.7391e+00, -2.4727e-01,\n",
       "          1.9678e+00,  9.3287e-02,  3.9777e-01,  1.0270e+00,  4.0808e-01,\n",
       "          3.0420e-01, -4.4494e-01,  4.1360e-01,  1.0003e+00, -1.3979e+00,\n",
       "          2.3425e-03, -1.0128e+00, -4.5861e-02, -1.2914e+00,  1.8777e-01,\n",
       "          1.2304e+00,  1.5059e+00,  9.2339e-01,  7.5253e-01, -1.7202e+00,\n",
       "          8.5600e-01,  1.2917e+00,  1.4132e-01,  1.5002e+00, -1.5510e+00,\n",
       "          9.7048e-01,  1.5955e-01, -1.4889e+00, -2.8555e-01, -4.3826e-01,\n",
       "         -4.7591e-01,  1.3450e+00,  1.7352e+00, -8.5538e-01,  1.1666e-01,\n",
       "          4.1984e-01, -1.3816e+00,  2.0360e+00, -8.3743e-01,  3.5444e-01,\n",
       "          7.3439e-01,  1.1286e+00, -2.4159e+00, -6.4553e-01, -1.2844e-01]])"
      ]
     },
     "execution_count": 9,
     "metadata": {},
     "output_type": "execute_result"
    }
   ],
   "source": [
    "W1"
   ]
  },
  {
   "cell_type": "code",
   "execution_count": 21,
   "id": "cfc9a3eb",
   "metadata": {},
   "outputs": [],
   "source": [
    "h = torch.tanh(emb.view(-1,6) @ W1 + b1)\n",
    "W2 = torch.randn([100, 27])\n",
    "b2 = torch.randn([27])\n",
    "logits = h @ W2 + b2\n",
    "counts = logits.exp()\n",
    "prob = counts / counts.sum(1, keepdims = True)\n",
    "loss = -prob[torch.arange(32), Y].log().mean()"
   ]
  },
  {
   "cell_type": "code",
   "execution_count": 22,
   "id": "68802c0c",
   "metadata": {},
   "outputs": [],
   "source": [
    "# Bringing it all together \n",
    "C = torch.randn((27,2))\n",
    "W1 = torch.randn([6,100])\n",
    "b1 = torch.randn(100)\n",
    "W2 = torch.randn([100, 27])\n",
    "b2 = torch.randn([27])\n",
    "parameters = [C, W1, b1, W2, b2]"
   ]
  },
  {
   "cell_type": "code",
   "execution_count": 23,
   "id": "2d382e74",
   "metadata": {},
   "outputs": [],
   "source": [
    "emb = C[X]\n",
    "h = torch.tanh(emb.view(-1,6) @ W1 + b1)\n",
    "logits = h @ W2 + b2\n",
    "counts = logits.exp()\n",
    "prob = counts / counts.sum(1, keepdims = True)\n",
    "loss = -prob[torch.arange(32), Y].log().mean()"
   ]
  },
  {
   "cell_type": "markdown",
   "id": "eb4fd482",
   "metadata": {},
   "source": [
    "In fact we can use a built in function that implements the loss calculation we are doing (because everyone uses the same loss multiple times). It is called cross_entropy"
   ]
  },
  {
   "cell_type": "code",
   "execution_count": 25,
   "id": "d410a621",
   "metadata": {},
   "outputs": [
    {
     "data": {
      "text/plain": [
       "tensor(17.1916)"
      ]
     },
     "execution_count": 25,
     "metadata": {},
     "output_type": "execute_result"
    }
   ],
   "source": [
    "loss = F.cross_entropy(logits, Y)\n",
    "loss"
   ]
  },
  {
   "cell_type": "markdown",
   "id": "415389fb",
   "metadata": {},
   "source": [
    "One very obvious but missed point to not is that probabilities are invariant under translations in logits. That makes sense because when you exponentiate, the translation because a multiplication by a common factor. Since we are normalising by the sum of the exponentials, the common factor cancels from the numerator and the denominator. And so probabilities are invariant under the translations of logits by a constant"
   ]
  },
  {
   "cell_type": "markdown",
   "id": "b651d391",
   "metadata": {},
   "source": [
    "So now we can set up the training of the network.  "
   ]
  },
  {
   "cell_type": "code",
   "execution_count": 34,
   "id": "be8d483c",
   "metadata": {},
   "outputs": [
    {
     "name": "stdout",
     "output_type": "stream",
     "text": [
      "step = 0, loss = 16.99941062927246\n",
      "step = 1, loss = 14.174312591552734\n",
      "step = 2, loss = 12.30608081817627\n",
      "step = 3, loss = 10.782776832580566\n",
      "step = 4, loss = 9.624773025512695\n",
      "step = 5, loss = 8.67542839050293\n",
      "step = 6, loss = 7.825677871704102\n",
      "step = 7, loss = 7.047819137573242\n",
      "step = 8, loss = 6.323177337646484\n",
      "step = 9, loss = 5.639281272888184\n",
      "step = 10, loss = 4.995021820068359\n",
      "step = 11, loss = 4.399930477142334\n",
      "step = 12, loss = 3.8722033500671387\n",
      "step = 13, loss = 3.4241044521331787\n",
      "step = 14, loss = 3.04489803314209\n",
      "step = 15, loss = 2.7182962894439697\n",
      "step = 16, loss = 2.434873342514038\n",
      "step = 17, loss = 2.187171459197998\n",
      "step = 18, loss = 1.9679524898529053\n",
      "step = 19, loss = 1.7717500925064087\n",
      "step = 20, loss = 1.5958524942398071\n",
      "step = 21, loss = 1.439687967300415\n",
      "step = 22, loss = 1.3036161661148071\n",
      "step = 23, loss = 1.187384843826294\n",
      "step = 24, loss = 1.0892417430877686\n",
      "step = 25, loss = 1.0063925981521606\n",
      "step = 26, loss = 0.9358968138694763\n",
      "step = 27, loss = 0.875185489654541\n",
      "step = 28, loss = 0.8221763968467712\n",
      "step = 29, loss = 0.7752306461334229\n",
      "step = 30, loss = 0.7330657839775085\n",
      "step = 31, loss = 0.6946926712989807\n",
      "step = 32, loss = 0.6593499779701233\n",
      "step = 33, loss = 0.6264570951461792\n",
      "step = 34, loss = 0.5955686569213867\n",
      "step = 35, loss = 0.5663479566574097\n",
      "step = 36, loss = 0.5385490655899048\n",
      "step = 37, loss = 0.5120155811309814\n",
      "step = 38, loss = 0.48669347167015076\n",
      "step = 39, loss = 0.4626627266407013\n",
      "step = 40, loss = 0.44017162919044495\n",
      "step = 41, loss = 0.41964855790138245\n",
      "step = 42, loss = 0.4016026556491852\n",
      "step = 43, loss = 0.38640525937080383\n",
      "step = 44, loss = 0.37404802441596985\n",
      "step = 45, loss = 0.36415383219718933\n",
      "step = 46, loss = 0.3561793863773346\n",
      "step = 47, loss = 0.3496352732181549\n",
      "step = 48, loss = 0.34414294362068176\n",
      "step = 49, loss = 0.3394547998905182\n"
     ]
    }
   ],
   "source": [
    "# Hyper parameters\n",
    "vocab_size = 27\n",
    "embedding_space_size = 2\n",
    "context_length = 3\n",
    "hidden_layer_size = 100\n",
    "learning_rate = -0.1\n",
    "\n",
    "# Initialisation \n",
    "C = torch.randn((vocab_size,embedding_space_size), requires_grad=True)\n",
    "W1 = torch.randn([context_length * embedding_space_size,100], requires_grad=True)\n",
    "b1 = torch.randn(hidden_layer_size, requires_grad=True)\n",
    "W2 = torch.randn([hidden_layer_size, vocab_size], requires_grad=True)\n",
    "b2 = torch.randn([vocab_size], requires_grad=True)\n",
    "parameters = [C, W1, b1, W2, b2]\n",
    "\n",
    "for step in range(50):\n",
    "    # forward pass\n",
    "    emb = C[X]\n",
    "    h = torch.tanh(emb.view(-1,context_length * embedding_space_size) @ W1 + b1)\n",
    "    logits = h @ W2 + b2\n",
    "    loss = F.cross_entropy(logits, Y)\n",
    "\n",
    "    print(f\"{step = }, loss = {loss.item()}\")\n",
    "\n",
    "    # Backpropagate gradients\n",
    "    for p in parameters:\n",
    "        p.grad = None\n",
    "    loss.backward()\n",
    "\n",
    "    # Update parameters\n",
    "    for p in parameters:\n",
    "        p.data += learning_rate * p.grad"
   ]
  },
  {
   "cell_type": "markdown",
   "id": "14fe543f",
   "metadata": {},
   "source": [
    "The loss here is super low because we have very few examples (only 32) and so the model is overfitting. We can now do the entire thing again but for the whole batch"
   ]
  },
  {
   "cell_type": "code",
   "execution_count": 37,
   "id": "f40d1019",
   "metadata": {},
   "outputs": [],
   "source": [
    "# building the dataset\n",
    "context_length = 3\n",
    "X, Y = [], []\n",
    "\n",
    "for name in names:\n",
    "    context = [0] * context_length\n",
    "    for ch in name + \".\":\n",
    "        ix = stoi[ch]\n",
    "        X.append(context)\n",
    "        Y.append(ix)\n",
    "        context = context[1:] + [ix]\n",
    "        \n",
    "X = torch.tensor(X)\n",
    "Y = torch.tensor(Y)"
   ]
  },
  {
   "cell_type": "code",
   "execution_count": 38,
   "id": "7233b095",
   "metadata": {},
   "outputs": [
    {
     "data": {
      "text/plain": [
       "torch.Size([228146, 3])"
      ]
     },
     "execution_count": 38,
     "metadata": {},
     "output_type": "execute_result"
    }
   ],
   "source": [
    "X.shape"
   ]
  },
  {
   "cell_type": "markdown",
   "id": "6ef13845",
   "metadata": {},
   "source": [
    "Problem is we have wayyyy too many samples, so the training is going to be slow. What we can do is to randomly select a minibatch of, let's say, 32 elements, train on them, and then the next step we again pick a random minibatch, and so on"
   ]
  },
  {
   "cell_type": "code",
   "execution_count": 44,
   "id": "5740c272",
   "metadata": {},
   "outputs": [
    {
     "data": {
      "text/plain": [
       "tensor(2.7946, grad_fn=<NllLossBackward0>)"
      ]
     },
     "execution_count": 44,
     "metadata": {},
     "output_type": "execute_result"
    }
   ],
   "source": [
    "# Hyper parameters\n",
    "minibatch_size = 64\n",
    "vocab_size = 27\n",
    "embedding_space_size = 2\n",
    "context_length = 3\n",
    "hidden_layer_size = 100\n",
    "learning_rate = -0.1\n",
    "\n",
    "# Initialisation \n",
    "C = torch.randn((vocab_size,embedding_space_size), requires_grad=True)\n",
    "W1 = torch.randn([context_length * embedding_space_size,100], requires_grad=True)\n",
    "b1 = torch.randn(hidden_layer_size, requires_grad=True)\n",
    "W2 = torch.randn([hidden_layer_size, vocab_size], requires_grad=True)\n",
    "b2 = torch.randn([vocab_size], requires_grad=True)\n",
    "parameters = [C, W1, b1, W2, b2]\n",
    "\n",
    "for step in range(1000):\n",
    "    # generate minibatch\n",
    "    minibatch = torch.randint(0, X.shape[0], (minibatch_size,))\n",
    "\n",
    "    # forward pass\n",
    "    emb = C[X[minibatch]]\n",
    "    h = torch.tanh(emb.view(-1,context_length * embedding_space_size) @ W1 + b1)\n",
    "    logits = h @ W2 + b2\n",
    "    loss = F.cross_entropy(logits, Y[minibatch])\n",
    "\n",
    "    # Backpropagate gradients\n",
    "    for p in parameters:\n",
    "        p.grad = None\n",
    "    loss.backward()\n",
    "\n",
    "    # Update parameters\n",
    "    for p in parameters:\n",
    "        p.data += learning_rate * p.grad\n",
    "loss"
   ]
  },
  {
   "cell_type": "markdown",
   "id": "c8ca46bd",
   "metadata": {},
   "source": [
    "Now we want to understand how to track the performance of this network on the basis of the learning rate I choose. The way Andrej does it is as follows. He first creates a sample of 1000 learning rates but with exponential spacing"
   ]
  },
  {
   "cell_type": "code",
   "execution_count": 54,
   "id": "e619be02",
   "metadata": {},
   "outputs": [],
   "source": [
    "lre = torch.linspace(-3, 0, 1000)\n",
    "lrs = 10**lre"
   ]
  },
  {
   "cell_type": "code",
   "execution_count": 55,
   "id": "ad45ba71",
   "metadata": {},
   "outputs": [
    {
     "data": {
      "text/plain": [
       "tensor([0.0010, 0.0010, 0.0010, 0.0010, 0.0010, 0.0010, 0.0010, 0.0010, 0.0011,\n",
       "        0.0011, 0.0011, 0.0011, 0.0011, 0.0011, 0.0011, 0.0011, 0.0011, 0.0011,\n",
       "        0.0011, 0.0011, 0.0011, 0.0012, 0.0012, 0.0012, 0.0012, 0.0012, 0.0012,\n",
       "        0.0012, 0.0012, 0.0012, 0.0012, 0.0012, 0.0012, 0.0013, 0.0013, 0.0013,\n",
       "        0.0013, 0.0013, 0.0013, 0.0013, 0.0013, 0.0013, 0.0013, 0.0013, 0.0014,\n",
       "        0.0014, 0.0014, 0.0014, 0.0014, 0.0014, 0.0014, 0.0014, 0.0014, 0.0014,\n",
       "        0.0015, 0.0015, 0.0015, 0.0015, 0.0015, 0.0015, 0.0015, 0.0015, 0.0015,\n",
       "        0.0015, 0.0016, 0.0016, 0.0016, 0.0016, 0.0016, 0.0016, 0.0016, 0.0016,\n",
       "        0.0016, 0.0017, 0.0017, 0.0017, 0.0017, 0.0017, 0.0017, 0.0017, 0.0017,\n",
       "        0.0018, 0.0018, 0.0018, 0.0018, 0.0018, 0.0018, 0.0018, 0.0018, 0.0019,\n",
       "        0.0019, 0.0019, 0.0019, 0.0019, 0.0019, 0.0019, 0.0019, 0.0020, 0.0020,\n",
       "        0.0020, 0.0020, 0.0020, 0.0020, 0.0020, 0.0021, 0.0021, 0.0021, 0.0021,\n",
       "        0.0021, 0.0021, 0.0021, 0.0022, 0.0022, 0.0022, 0.0022, 0.0022, 0.0022,\n",
       "        0.0022, 0.0023, 0.0023, 0.0023, 0.0023, 0.0023, 0.0023, 0.0024, 0.0024,\n",
       "        0.0024, 0.0024, 0.0024, 0.0024, 0.0025, 0.0025, 0.0025, 0.0025, 0.0025,\n",
       "        0.0025, 0.0026, 0.0026, 0.0026, 0.0026, 0.0026, 0.0027, 0.0027, 0.0027,\n",
       "        0.0027, 0.0027, 0.0027, 0.0028, 0.0028, 0.0028, 0.0028, 0.0028, 0.0029,\n",
       "        0.0029, 0.0029, 0.0029, 0.0029, 0.0030, 0.0030, 0.0030, 0.0030, 0.0030,\n",
       "        0.0031, 0.0031, 0.0031, 0.0031, 0.0032, 0.0032, 0.0032, 0.0032, 0.0032,\n",
       "        0.0033, 0.0033, 0.0033, 0.0033, 0.0034, 0.0034, 0.0034, 0.0034, 0.0034,\n",
       "        0.0035, 0.0035, 0.0035, 0.0035, 0.0036, 0.0036, 0.0036, 0.0036, 0.0037,\n",
       "        0.0037, 0.0037, 0.0037, 0.0038, 0.0038, 0.0038, 0.0039, 0.0039, 0.0039,\n",
       "        0.0039, 0.0040, 0.0040, 0.0040, 0.0040, 0.0041, 0.0041, 0.0041, 0.0042,\n",
       "        0.0042, 0.0042, 0.0042, 0.0043, 0.0043, 0.0043, 0.0044, 0.0044, 0.0044,\n",
       "        0.0045, 0.0045, 0.0045, 0.0045, 0.0046, 0.0046, 0.0046, 0.0047, 0.0047,\n",
       "        0.0047, 0.0048, 0.0048, 0.0048, 0.0049, 0.0049, 0.0049, 0.0050, 0.0050,\n",
       "        0.0050, 0.0051, 0.0051, 0.0051, 0.0052, 0.0052, 0.0053, 0.0053, 0.0053,\n",
       "        0.0054, 0.0054, 0.0054, 0.0055, 0.0055, 0.0056, 0.0056, 0.0056, 0.0057,\n",
       "        0.0057, 0.0058, 0.0058, 0.0058, 0.0059, 0.0059, 0.0060, 0.0060, 0.0060,\n",
       "        0.0061, 0.0061, 0.0062, 0.0062, 0.0062, 0.0063, 0.0063, 0.0064, 0.0064,\n",
       "        0.0065, 0.0065, 0.0066, 0.0066, 0.0067, 0.0067, 0.0067, 0.0068, 0.0068,\n",
       "        0.0069, 0.0069, 0.0070, 0.0070, 0.0071, 0.0071, 0.0072, 0.0072, 0.0073,\n",
       "        0.0073, 0.0074, 0.0074, 0.0075, 0.0075, 0.0076, 0.0076, 0.0077, 0.0077,\n",
       "        0.0078, 0.0079, 0.0079, 0.0080, 0.0080, 0.0081, 0.0081, 0.0082, 0.0082,\n",
       "        0.0083, 0.0084, 0.0084, 0.0085, 0.0085, 0.0086, 0.0086, 0.0087, 0.0088,\n",
       "        0.0088, 0.0089, 0.0090, 0.0090, 0.0091, 0.0091, 0.0092, 0.0093, 0.0093,\n",
       "        0.0094, 0.0095, 0.0095, 0.0096, 0.0097, 0.0097, 0.0098, 0.0099, 0.0099,\n",
       "        0.0100, 0.0101, 0.0101, 0.0102, 0.0103, 0.0104, 0.0104, 0.0105, 0.0106,\n",
       "        0.0106, 0.0107, 0.0108, 0.0109, 0.0109, 0.0110, 0.0111, 0.0112, 0.0112,\n",
       "        0.0113, 0.0114, 0.0115, 0.0116, 0.0116, 0.0117, 0.0118, 0.0119, 0.0120,\n",
       "        0.0121, 0.0121, 0.0122, 0.0123, 0.0124, 0.0125, 0.0126, 0.0127, 0.0127,\n",
       "        0.0128, 0.0129, 0.0130, 0.0131, 0.0132, 0.0133, 0.0134, 0.0135, 0.0136,\n",
       "        0.0137, 0.0137, 0.0138, 0.0139, 0.0140, 0.0141, 0.0142, 0.0143, 0.0144,\n",
       "        0.0145, 0.0146, 0.0147, 0.0148, 0.0149, 0.0150, 0.0151, 0.0152, 0.0154,\n",
       "        0.0155, 0.0156, 0.0157, 0.0158, 0.0159, 0.0160, 0.0161, 0.0162, 0.0163,\n",
       "        0.0165, 0.0166, 0.0167, 0.0168, 0.0169, 0.0170, 0.0171, 0.0173, 0.0174,\n",
       "        0.0175, 0.0176, 0.0178, 0.0179, 0.0180, 0.0181, 0.0182, 0.0184, 0.0185,\n",
       "        0.0186, 0.0188, 0.0189, 0.0190, 0.0192, 0.0193, 0.0194, 0.0196, 0.0197,\n",
       "        0.0198, 0.0200, 0.0201, 0.0202, 0.0204, 0.0205, 0.0207, 0.0208, 0.0210,\n",
       "        0.0211, 0.0212, 0.0214, 0.0215, 0.0217, 0.0218, 0.0220, 0.0221, 0.0223,\n",
       "        0.0225, 0.0226, 0.0228, 0.0229, 0.0231, 0.0232, 0.0234, 0.0236, 0.0237,\n",
       "        0.0239, 0.0241, 0.0242, 0.0244, 0.0246, 0.0247, 0.0249, 0.0251, 0.0253,\n",
       "        0.0254, 0.0256, 0.0258, 0.0260, 0.0261, 0.0263, 0.0265, 0.0267, 0.0269,\n",
       "        0.0271, 0.0273, 0.0274, 0.0276, 0.0278, 0.0280, 0.0282, 0.0284, 0.0286,\n",
       "        0.0288, 0.0290, 0.0292, 0.0294, 0.0296, 0.0298, 0.0300, 0.0302, 0.0304,\n",
       "        0.0307, 0.0309, 0.0311, 0.0313, 0.0315, 0.0317, 0.0320, 0.0322, 0.0324,\n",
       "        0.0326, 0.0328, 0.0331, 0.0333, 0.0335, 0.0338, 0.0340, 0.0342, 0.0345,\n",
       "        0.0347, 0.0350, 0.0352, 0.0354, 0.0357, 0.0359, 0.0362, 0.0364, 0.0367,\n",
       "        0.0369, 0.0372, 0.0375, 0.0377, 0.0380, 0.0382, 0.0385, 0.0388, 0.0390,\n",
       "        0.0393, 0.0396, 0.0399, 0.0401, 0.0404, 0.0407, 0.0410, 0.0413, 0.0416,\n",
       "        0.0418, 0.0421, 0.0424, 0.0427, 0.0430, 0.0433, 0.0436, 0.0439, 0.0442,\n",
       "        0.0445, 0.0448, 0.0451, 0.0455, 0.0458, 0.0461, 0.0464, 0.0467, 0.0471,\n",
       "        0.0474, 0.0477, 0.0480, 0.0484, 0.0487, 0.0491, 0.0494, 0.0497, 0.0501,\n",
       "        0.0504, 0.0508, 0.0511, 0.0515, 0.0518, 0.0522, 0.0526, 0.0529, 0.0533,\n",
       "        0.0537, 0.0540, 0.0544, 0.0548, 0.0552, 0.0556, 0.0559, 0.0563, 0.0567,\n",
       "        0.0571, 0.0575, 0.0579, 0.0583, 0.0587, 0.0591, 0.0595, 0.0599, 0.0604,\n",
       "        0.0608, 0.0612, 0.0616, 0.0621, 0.0625, 0.0629, 0.0634, 0.0638, 0.0642,\n",
       "        0.0647, 0.0651, 0.0656, 0.0660, 0.0665, 0.0670, 0.0674, 0.0679, 0.0684,\n",
       "        0.0688, 0.0693, 0.0698, 0.0703, 0.0708, 0.0713, 0.0718, 0.0723, 0.0728,\n",
       "        0.0733, 0.0738, 0.0743, 0.0748, 0.0753, 0.0758, 0.0764, 0.0769, 0.0774,\n",
       "        0.0780, 0.0785, 0.0790, 0.0796, 0.0802, 0.0807, 0.0813, 0.0818, 0.0824,\n",
       "        0.0830, 0.0835, 0.0841, 0.0847, 0.0853, 0.0859, 0.0865, 0.0871, 0.0877,\n",
       "        0.0883, 0.0889, 0.0895, 0.0901, 0.0908, 0.0914, 0.0920, 0.0927, 0.0933,\n",
       "        0.0940, 0.0946, 0.0953, 0.0959, 0.0966, 0.0973, 0.0979, 0.0986, 0.0993,\n",
       "        0.1000, 0.1007, 0.1014, 0.1021, 0.1028, 0.1035, 0.1042, 0.1050, 0.1057,\n",
       "        0.1064, 0.1072, 0.1079, 0.1087, 0.1094, 0.1102, 0.1109, 0.1117, 0.1125,\n",
       "        0.1133, 0.1140, 0.1148, 0.1156, 0.1164, 0.1172, 0.1181, 0.1189, 0.1197,\n",
       "        0.1205, 0.1214, 0.1222, 0.1231, 0.1239, 0.1248, 0.1256, 0.1265, 0.1274,\n",
       "        0.1283, 0.1292, 0.1301, 0.1310, 0.1319, 0.1328, 0.1337, 0.1346, 0.1356,\n",
       "        0.1365, 0.1374, 0.1384, 0.1394, 0.1403, 0.1413, 0.1423, 0.1433, 0.1443,\n",
       "        0.1453, 0.1463, 0.1473, 0.1483, 0.1493, 0.1504, 0.1514, 0.1525, 0.1535,\n",
       "        0.1546, 0.1557, 0.1567, 0.1578, 0.1589, 0.1600, 0.1611, 0.1623, 0.1634,\n",
       "        0.1645, 0.1657, 0.1668, 0.1680, 0.1691, 0.1703, 0.1715, 0.1727, 0.1739,\n",
       "        0.1751, 0.1763, 0.1775, 0.1788, 0.1800, 0.1812, 0.1825, 0.1838, 0.1850,\n",
       "        0.1863, 0.1876, 0.1889, 0.1902, 0.1916, 0.1929, 0.1942, 0.1956, 0.1969,\n",
       "        0.1983, 0.1997, 0.2010, 0.2024, 0.2038, 0.2053, 0.2067, 0.2081, 0.2096,\n",
       "        0.2110, 0.2125, 0.2140, 0.2154, 0.2169, 0.2184, 0.2200, 0.2215, 0.2230,\n",
       "        0.2246, 0.2261, 0.2277, 0.2293, 0.2309, 0.2325, 0.2341, 0.2357, 0.2373,\n",
       "        0.2390, 0.2406, 0.2423, 0.2440, 0.2457, 0.2474, 0.2491, 0.2508, 0.2526,\n",
       "        0.2543, 0.2561, 0.2579, 0.2597, 0.2615, 0.2633, 0.2651, 0.2669, 0.2688,\n",
       "        0.2707, 0.2725, 0.2744, 0.2763, 0.2783, 0.2802, 0.2821, 0.2841, 0.2861,\n",
       "        0.2880, 0.2900, 0.2921, 0.2941, 0.2961, 0.2982, 0.3002, 0.3023, 0.3044,\n",
       "        0.3065, 0.3087, 0.3108, 0.3130, 0.3151, 0.3173, 0.3195, 0.3217, 0.3240,\n",
       "        0.3262, 0.3285, 0.3308, 0.3331, 0.3354, 0.3377, 0.3400, 0.3424, 0.3448,\n",
       "        0.3472, 0.3496, 0.3520, 0.3544, 0.3569, 0.3594, 0.3619, 0.3644, 0.3669,\n",
       "        0.3695, 0.3720, 0.3746, 0.3772, 0.3798, 0.3825, 0.3851, 0.3878, 0.3905,\n",
       "        0.3932, 0.3959, 0.3987, 0.4014, 0.4042, 0.4070, 0.4098, 0.4127, 0.4155,\n",
       "        0.4184, 0.4213, 0.4243, 0.4272, 0.4302, 0.4331, 0.4362, 0.4392, 0.4422,\n",
       "        0.4453, 0.4484, 0.4515, 0.4546, 0.4578, 0.4610, 0.4642, 0.4674, 0.4706,\n",
       "        0.4739, 0.4772, 0.4805, 0.4838, 0.4872, 0.4906, 0.4940, 0.4974, 0.5008,\n",
       "        0.5043, 0.5078, 0.5113, 0.5149, 0.5185, 0.5221, 0.5257, 0.5293, 0.5330,\n",
       "        0.5367, 0.5404, 0.5442, 0.5479, 0.5517, 0.5556, 0.5594, 0.5633, 0.5672,\n",
       "        0.5712, 0.5751, 0.5791, 0.5831, 0.5872, 0.5913, 0.5954, 0.5995, 0.6036,\n",
       "        0.6078, 0.6120, 0.6163, 0.6206, 0.6249, 0.6292, 0.6336, 0.6380, 0.6424,\n",
       "        0.6469, 0.6513, 0.6559, 0.6604, 0.6650, 0.6696, 0.6743, 0.6789, 0.6837,\n",
       "        0.6884, 0.6932, 0.6980, 0.7028, 0.7077, 0.7126, 0.7176, 0.7225, 0.7275,\n",
       "        0.7326, 0.7377, 0.7428, 0.7480, 0.7531, 0.7584, 0.7636, 0.7689, 0.7743,\n",
       "        0.7796, 0.7850, 0.7905, 0.7960, 0.8015, 0.8071, 0.8127, 0.8183, 0.8240,\n",
       "        0.8297, 0.8355, 0.8412, 0.8471, 0.8530, 0.8589, 0.8648, 0.8708, 0.8769,\n",
       "        0.8830, 0.8891, 0.8953, 0.9015, 0.9077, 0.9140, 0.9204, 0.9268, 0.9332,\n",
       "        0.9397, 0.9462, 0.9528, 0.9594, 0.9660, 0.9727, 0.9795, 0.9863, 0.9931,\n",
       "        1.0000])"
      ]
     },
     "execution_count": 55,
     "metadata": {},
     "output_type": "execute_result"
    }
   ],
   "source": [
    "lrs"
   ]
  },
  {
   "cell_type": "markdown",
   "id": "7f713ac4",
   "metadata": {},
   "source": [
    "And now we run the network for 1000 iterations, but in every iteration I go up in this list of learning rates, and I keep a track of what the loss is wrt the learning rate"
   ]
  },
  {
   "cell_type": "code",
   "execution_count": 56,
   "id": "9a03c8f9",
   "metadata": {},
   "outputs": [],
   "source": [
    "# Hyper parameters\n",
    "minibatch_size = 64\n",
    "vocab_size = 27\n",
    "embedding_space_size = 2\n",
    "context_length = 3\n",
    "hidden_layer_size = 100\n",
    "\n",
    "lrei = []\n",
    "lri = []\n",
    "lossi = []\n",
    "\n",
    "# Initialisation \n",
    "C = torch.randn((vocab_size,embedding_space_size), requires_grad=True)\n",
    "W1 = torch.randn([context_length * embedding_space_size,100], requires_grad=True)\n",
    "b1 = torch.randn(hidden_layer_size, requires_grad=True)\n",
    "W2 = torch.randn([hidden_layer_size, vocab_size], requires_grad=True)\n",
    "b2 = torch.randn([vocab_size], requires_grad=True)\n",
    "parameters = [C, W1, b1, W2, b2]\n",
    "\n",
    "for step in range(1000):\n",
    "    # generate minibatch\n",
    "    minibatch = torch.randint(0, X.shape[0], (minibatch_size,))\n",
    "\n",
    "    # forward pass\n",
    "    emb = C[X[minibatch]]\n",
    "    h = torch.tanh(emb.view(-1,context_length * embedding_space_size) @ W1 + b1)\n",
    "    logits = h @ W2 + b2\n",
    "    loss = F.cross_entropy(logits, Y[minibatch])\n",
    "\n",
    "    # Backpropagate gradients\n",
    "    for p in parameters:\n",
    "        p.grad = None\n",
    "    loss.backward()\n",
    "\n",
    "    # Update parameters\n",
    "    for p in parameters:\n",
    "        p.data += -lrs[step] * p.grad\n",
    "    \n",
    "    # tracking stats\n",
    "    lrei.append(lre[step])\n",
    "    lri.append(lrs[step])\n",
    "    lossi.append(loss.item())"
   ]
  },
  {
   "cell_type": "code",
   "execution_count": 57,
   "id": "d997ecb1",
   "metadata": {},
   "outputs": [
    {
     "data": {
      "text/plain": [
       "[<matplotlib.lines.Line2D at 0x136d45510>]"
      ]
     },
     "execution_count": 57,
     "metadata": {},
     "output_type": "execute_result"
    },
    {
     "data": {
      "image/png": "[encoded data removed]",
      "text/plain": [
       "<Figure size 640x480 with 1 Axes>"
      ]
     },
     "metadata": {},
     "output_type": "display_data"
    }
   ],
   "source": [
    "plt.plot(lri, lossi)"
   ]
  },
  {
   "cell_type": "code",
   "execution_count": 58,
   "id": "d72a4146",
   "metadata": {},
   "outputs": [
    {
     "data": {
      "text/plain": [
       "[<matplotlib.lines.Line2D at 0x132be4190>]"
      ]
     },
     "execution_count": 58,
     "metadata": {},
     "output_type": "execute_result"
    },
    {
     "data": {
      "image/png": "[encoded data removed]",
      "text/plain": [
       "<Figure size 640x480 with 1 Axes>"
      ]
     },
     "metadata": {},
     "output_type": "display_data"
    }
   ],
   "source": [
    "plt.plot(lrei,lossi)"
   ]
  },
  {
   "cell_type": "markdown",
   "id": "ce7ce26f",
   "metadata": {},
   "source": [
    "The two things that remain are implementing train-dev-test split, implementing a learing rate decay, and sampling from the model to generate new names. This generating business was also missing from lecture 1 "
   ]
  },
  {
   "cell_type": "markdown",
   "id": "f6aaa297",
   "metadata": {},
   "source": []
  }
 ],
 "metadata": {
  "kernelspec": {
   "display_name": "Python 3 (ipykernel)",
   "language": "python",
   "name": "python3"
  },
  "language_info": {
   "codemirror_mode": {
    "name": "ipython",
    "version": 3
   },
   "file_extension": ".py",
   "mimetype": "text/x-python",
   "name": "python",
   "nbconvert_exporter": "python",
   "pygments_lexer": "ipython3",
   "version": "3.10.14"
  }
 },
 "nbformat": 4,
 "nbformat_minor": 5
}

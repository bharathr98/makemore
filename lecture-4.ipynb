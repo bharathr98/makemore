{
 "cells": [
  {
   "cell_type": "markdown",
   "metadata": {},
   "source": [
    "# Becoming backprop ninja"
   ]
  },
  {
   "cell_type": "markdown",
   "metadata": {},
   "source": [
    "This lecture is more of a workbook style lecture it seems. I am going to first do the exercises myself and then see how Andrej implements it. The first few cells are the same as before where you do your standard imports and then prepare your data"
   ]
  },
  {
   "cell_type": "code",
   "execution_count": 1,
   "metadata": {},
   "outputs": [],
   "source": [
    "import torch\n",
    "import matplotlib.pyplot as plt\n",
    "import torch.nn.functional as F\n",
    "%matplotlib inline"
   ]
  },
  {
   "cell_type": "code",
   "execution_count": 2,
   "metadata": {},
   "outputs": [],
   "source": [
    "with open('names.txt') as f:\n",
    "    names = f.readlines()\n",
    "    names = [name.strip('\\n') for name in names]"
   ]
  },
  {
   "cell_type": "code",
   "execution_count": 3,
   "metadata": {},
   "outputs": [],
   "source": [
    "# alternate implementation, used by Andrej\n",
    "names = open('names.txt', 'r').read().splitlines()"
   ]
  },
  {
   "cell_type": "code",
   "execution_count": 4,
   "metadata": {},
   "outputs": [],
   "source": [
    "# prepare the vocab\n",
    "tokens = ['.'] + sorted(set(''.join(names)))\n",
    "stoi = {}\n",
    "itos = {}\n",
    "for i, token in enumerate(tokens):\n",
    "    stoi[token] = i\n",
    "    itos[i] = token"
   ]
  },
  {
   "cell_type": "code",
   "execution_count": 5,
   "metadata": {},
   "outputs": [],
   "source": [
    "def buildDataset(names):\n",
    "    X, Y = [], []\n",
    "    for name in names:\n",
    "        chars = [0] * 3\n",
    "        for x in name + '.':\n",
    "            xi = stoi[x]\n",
    "            X.append(chars)\n",
    "            Y.append(xi)\n",
    "            chars = chars[1:] + [xi]\n",
    "    X = torch.tensor(X)\n",
    "    Y = torch.tensor(Y)\n",
    "    return (X, Y)"
   ]
  },
  {
   "cell_type": "code",
   "execution_count": 6,
   "metadata": {},
   "outputs": [],
   "source": [
    "import random\n",
    "random.shuffle(names)\n",
    "\n",
    "samples = len(names)\n",
    "\n",
    "train = 0.8\n",
    "val = 0.9\n",
    "test = 1.0\n",
    "\n",
    "Xtr, Ytr = buildDataset(names[:int(train*samples)])\n",
    "Xval, Yval = buildDataset(names[int(train*samples):int(val*samples)])\n",
    "Xtest, Ytest = buildDataset(names[int(val*samples):])"
   ]
  },
  {
   "cell_type": "code",
   "execution_count": 7,
   "metadata": {},
   "outputs": [],
   "source": [
    "class Linear:\n",
    "    def __init__(self, fan_in, fan_out, bias = True):\n",
    "        self.weights = torch.randn((fan_in, fan_out)) / (fan_in ** 0.5)\n",
    "        self.bias = torch.randn((fan_out,)) * 0.1 if bias else None\n",
    "    def __call__(self, x):\n",
    "        self.out = x @ self.weights\n",
    "        if self.bias is not None:\n",
    "            self.out += self.bias\n",
    "        return self.out\n",
    "    def parameters(self):\n",
    "        return [self.weights] + ([] if self.bias is None else [self.bias])\n",
    "    \n",
    "class Tanh:\n",
    "    def __call__(self, x):\n",
    "        self.out = torch.tanh(x)\n",
    "        return self.out"
   ]
  },
  {
   "cell_type": "code",
   "execution_count": 10,
   "metadata": {},
   "outputs": [
    {
     "name": "stdout",
     "output_type": "stream",
     "text": [
      "11897\n"
     ]
    }
   ],
   "source": [
    "max_iterations = 20000\n",
    "vocab_size = len(stoi)\n",
    "context_length = 3\n",
    "embedding_dim = 10\n",
    "hidden_dim = 200\n",
    "minibatch_size = 32\n",
    "lr = 0.1\n",
    "\n",
    "C = torch.randn((vocab_size, embedding_dim))\n",
    "layers = [\n",
    "    Linear(embedding_dim*context_length, hidden_dim), Tanh(),\n",
    "    Linear(                  hidden_dim, vocab_size)\n",
    "]\n",
    "\n",
    "parameters = [C] + [p for layer in layers if isinstance(layer, Linear) for p in layer.parameters()]\n",
    "for p in parameters:\n",
    "    p.requires_grad_()\n",
    "\n",
    "print(sum([p.nelement() for p in parameters]))"
   ]
  },
  {
   "cell_type": "code",
   "execution_count": 17,
   "metadata": {},
   "outputs": [
    {
     "name": "stdout",
     "output_type": "stream",
     "text": [
      "0/20000 loss = 2.6045684814453125\n",
      "2000/20000 loss = 2.095168352127075\n",
      "4000/20000 loss = 1.7923805713653564\n",
      "6000/20000 loss = 2.142599582672119\n",
      "8000/20000 loss = 1.9210169315338135\n",
      "10000/20000 loss = 2.3190653324127197\n",
      "12000/20000 loss = 1.9645098447799683\n",
      "14000/20000 loss = 2.592478036880493\n",
      "16000/20000 loss = 2.202781915664673\n",
      "18000/20000 loss = 2.5616817474365234\n",
      "20000/20000 loss = 2.426074266433716\n"
     ]
    }
   ],
   "source": [
    "for step in range(max_iterations + 1):\n",
    "    # minibatch\n",
    "    minibatch = torch.randint(Xtr.shape[0], (minibatch_size,))\n",
    "\n",
    "    # forward pass\n",
    "    emb = C[Xtr[minibatch]]\n",
    "    embcat = emb.view(-1, embedding_dim * context_length)\n",
    "    x = embcat\n",
    "    for layer in layers:\n",
    "        x = layer(x)\n",
    "    loss = F.cross_entropy(x, Ytr[minibatch])\n",
    "    \n",
    "    # calculate gradient\n",
    "    for p in parameters:\n",
    "        p.grad = None\n",
    "    loss.backward()\n",
    "    \n",
    "    # update values\n",
    "    for p in parameters:\n",
    "        p.data -= lr * p.grad\n",
    "    \n",
    "    # print progress\n",
    "    if step % 2000 == 0:\n",
    "        print(f'{step}/{max_iterations} loss = {loss.item()}')"
   ]
  },
  {
   "cell_type": "markdown",
   "metadata": {},
   "source": [
    "So far we were just recreating what we did in the previous lectures. Now we \"chunkate\" the code and write it in a way where we don't use a lot of internal functions of PyTorch in order to implement backprop on our own"
   ]
  },
  {
   "cell_type": "code",
   "execution_count": 51,
   "metadata": {},
   "outputs": [
    {
     "name": "stdout",
     "output_type": "stream",
     "text": [
      "12297\n"
     ]
    }
   ],
   "source": [
    "max_iterations = 20000\n",
    "vocab_size = len(stoi)\n",
    "context_length = 3\n",
    "embedding_dim = 10\n",
    "hidden_dim = 200\n",
    "minibatch_size = 32\n",
    "lr = 0.1\n",
    "epsilon = 1e-5\n",
    "\n",
    "C = torch.randn((vocab_size, embedding_dim))\n",
    "# Linear layer 1\n",
    "W1 = torch.randn((context_length * embedding_dim, hidden_dim)) * 0.1\n",
    "b1 = torch.randn((hidden_dim,)) * 0.01\n",
    "# Batch norm tensors\n",
    "gamma = torch.ones((hidden_dim,))\n",
    "beta = torch.zeros((hidden_dim,))\n",
    "# Linear layer 2\n",
    "W2 = torch.randn((hidden_dim, vocab_size)) * 0.1\n",
    "b2 = torch.randn((vocab_size,)) * 0.01\n",
    "\n",
    "parameters = [C, W1, b1, gamma, beta, W2, b2]\n",
    "for p in parameters:\n",
    "    p.requires_grad_()\n",
    "\n",
    "print(sum([p.nelement() for p in parameters]))"
   ]
  },
  {
   "cell_type": "code",
   "execution_count": 52,
   "metadata": {},
   "outputs": [
    {
     "name": "stdout",
     "output_type": "stream",
     "text": [
      "0/20000 loss = 3.775161027908325\n",
      "2000/20000 loss = 2.462073802947998\n",
      "4000/20000 loss = 2.5500526428222656\n",
      "6000/20000 loss = 2.0544486045837402\n",
      "8000/20000 loss = 2.1829376220703125\n",
      "10000/20000 loss = 2.486475706100464\n",
      "12000/20000 loss = 2.3895978927612305\n",
      "14000/20000 loss = 2.130673408508301\n",
      "16000/20000 loss = 2.0279457569122314\n",
      "18000/20000 loss = 2.4456534385681152\n",
      "20000/20000 loss = 2.4373044967651367\n"
     ]
    }
   ],
   "source": [
    "for step in range(max_iterations + 1):\n",
    "    # minibatch\n",
    "    minibatch = torch.randint(Xtr.shape[0], (minibatch_size,))\n",
    "\n",
    "    # ----- forward pass -----\n",
    "    # embedding and concatenating\n",
    "    emb = C[Xtr[minibatch]]\n",
    "    embcat = emb.view(-1, embedding_dim * context_length)\n",
    "    # Linear layer 1\n",
    "    h1preact = embcat @ W1 + b1\n",
    "    # Batch Norm\n",
    "    h1mean = h1preact.mean(0, keepdims=True)\n",
    "    h1var = h1preact.var(0, keepdims=True)\n",
    "    h1shifted = h1preact - h1mean\n",
    "    h1scalefactor = torch.sqrt(h1var + epsilon)\n",
    "    xhat = h1shifted / h1scalefactor\n",
    "    yhat = gamma * xhat + beta\n",
    "    # Activation\n",
    "    h1 = torch.tanh(yhat)\n",
    "    # Linear layer 2 \n",
    "    h2 = h1 @ W2 + b2\n",
    "    # Calculate the loss function\n",
    "    counts = h2.exp()\n",
    "    probs = counts / counts.sum(1, keepdims=True)\n",
    "    logprobs = -probs.log()\n",
    "    predprob = logprobs[torch.arange(minibatch_size), Ytr[minibatch]]\n",
    "    loss = predprob.mean()\n",
    "    \n",
    "    # calculate gradient\n",
    "    for p in parameters:\n",
    "        p.grad = None\n",
    "    loss.backward()\n",
    "    \n",
    "    # update values\n",
    "    for p in parameters:\n",
    "        p.data -= lr * p.grad\n",
    "    \n",
    "    # print progress\n",
    "    if step % 2000 == 0:\n",
    "        print(f'{step}/{max_iterations} loss = {loss.item()}')"
   ]
  },
  {
   "cell_type": "markdown",
   "metadata": {},
   "source": [
    "We now have something that works as intended. This is good. Now we will just import the code that Andrej wrote so that we are in unision with the lecture"
   ]
  },
  {
   "cell_type": "code",
   "execution_count": 75,
   "metadata": {},
   "outputs": [
    {
     "name": "stdout",
     "output_type": "stream",
     "text": [
      "torch.Size([182479, 3]) torch.Size([182479])\n",
      "torch.Size([22760, 3]) torch.Size([22760])\n",
      "torch.Size([22907, 3]) torch.Size([22907])\n"
     ]
    }
   ],
   "source": [
    "# build the dataset\n",
    "block_size = 3 # context length: how many characters do we take to predict the next one?\n",
    "\n",
    "def build_dataset(names):  \n",
    "  X, Y = [], []\n",
    "  \n",
    "  for w in names:\n",
    "    context = [0] * block_size\n",
    "    for ch in w + '.':\n",
    "      ix = stoi[ch]\n",
    "      X.append(context)\n",
    "      Y.append(ix)\n",
    "      context = context[1:] + [ix] # crop and append\n",
    "\n",
    "  X = torch.tensor(X)\n",
    "  Y = torch.tensor(Y)\n",
    "  print(X.shape, Y.shape)\n",
    "  return X, Y\n",
    "\n",
    "import random\n",
    "random.seed(42)\n",
    "random.shuffle(names)\n",
    "n1 = int(0.8*len(names))\n",
    "n2 = int(0.9*len(names))\n",
    "\n",
    "Xtr,  Ytr  = build_dataset(names[:n1])     # 80%\n",
    "Xdev, Ydev = build_dataset(names[n1:n2])   # 10%\n",
    "Xte,  Yte  = build_dataset(names[n2:])     # 10%"
   ]
  },
  {
   "cell_type": "code",
   "execution_count": 248,
   "metadata": {},
   "outputs": [],
   "source": [
    "# utility function we will use later when comparing manual gradients to PyTorch gradients\n",
    "def cmp(s, dt, t):\n",
    "  ex = torch.all(dt == t.grad).item()\n",
    "  app = torch.allclose(dt, t.grad, atol=1e-7)\n",
    "  maxdiff = (dt - t.grad).abs().max().item()\n",
    "  print(f'{s:15s} | exact: {str(ex):5s} | approximate: {str(app):5s} | maxdiff: {maxdiff}')"
   ]
  },
  {
   "cell_type": "code",
   "execution_count": 76,
   "metadata": {},
   "outputs": [],
   "source": [
    "batch_size = 32\n",
    "n = batch_size # a shorter variable also, for convenience\n",
    "# construct a minibatch\n",
    "ix = torch.randint(0, Xtr.shape[0], (batch_size,), generator=g)\n",
    "Xb, Yb = Xtr[ix], Ytr[ix] # batch X,Y"
   ]
  },
  {
   "cell_type": "code",
   "execution_count": 77,
   "metadata": {
    "scrolled": true
   },
   "outputs": [
    {
     "data": {
      "text/plain": [
       "torch.Size([32])"
      ]
     },
     "execution_count": 77,
     "metadata": {},
     "output_type": "execute_result"
    }
   ],
   "source": [
    "Yb.shape"
   ]
  },
  {
   "cell_type": "code",
   "execution_count": 270,
   "metadata": {},
   "outputs": [
    {
     "name": "stdout",
     "output_type": "stream",
     "text": [
      "4137\n"
     ]
    },
    {
     "data": {
      "text/plain": [
       "tensor(3.4203, grad_fn=<NegBackward0>)"
      ]
     },
     "execution_count": 270,
     "metadata": {},
     "output_type": "execute_result"
    }
   ],
   "source": [
    "n_embd = 10 # the dimensionality of the character embedding vectors\n",
    "n_hidden = 64 # the number of neurons in the hidden layer of the MLP\n",
    "block_size = 3\n",
    "\n",
    "g = torch.Generator().manual_seed(2147483647) # for reproducibility\n",
    "C  = torch.randn((vocab_size, n_embd),            generator=g)\n",
    "# Layer 1\n",
    "W1 = torch.randn((n_embd * block_size, n_hidden), generator=g) * (5/3)/((n_embd * block_size)**0.5)\n",
    "b1 = torch.randn(n_hidden,                        generator=g) * 0.1 # using b1 just for fun, it's useless because of BN\n",
    "# Layer 2\n",
    "W2 = torch.randn((n_hidden, vocab_size),          generator=g) * 0.1\n",
    "b2 = torch.randn(vocab_size,                      generator=g) * 0.1\n",
    "# BatchNorm parameters\n",
    "bngain = torch.randn((1, n_hidden))*0.1 + 1.0\n",
    "bnbias = torch.randn((1, n_hidden))*0.1\n",
    "\n",
    "# Note: I am initializating many of these parameters in non-standard ways\n",
    "# because sometimes initializating with e.g. all zeros could mask an incorrect\n",
    "# implementation of the backward pass.\n",
    "\n",
    "parameters = [C, W1, b1, W2, b2, bngain, bnbias]\n",
    "print(sum(p.nelement() for p in parameters)) # number of parameters in total\n",
    "for p in parameters:\n",
    "  p.requires_grad = True\n",
    "\n",
    "batch_size = 32\n",
    "n = batch_size # a shorter variable also, for convenience\n",
    "# construct a minibatch\n",
    "ix = torch.randint(0, Xtr.shape[0], (batch_size,), generator=g)\n",
    "Xb, Yb = Xtr[ix], Ytr[ix] # batch X,Y\n",
    "\n",
    "# forward pass, \"chunkated\" into smaller steps that are possible to backward one at a time\n",
    "\n",
    "emb = C[Xb] # embed the characters into vectors\n",
    "embcat = emb.view(emb.shape[0], -1) # concatenate the vectors\n",
    "# Linear layer 1\n",
    "hprebn = embcat @ W1 + b1 # hidden layer pre-activation\n",
    "# BatchNorm layer\n",
    "bnmeani = 1/n*hprebn.sum(0, keepdim=True)\n",
    "bndiff = hprebn - bnmeani\n",
    "bndiff2 = bndiff**2\n",
    "bnvar = 1/(n-1)*(bndiff2).sum(0, keepdim=True) # note: Bessel's correction (dividing by n-1, not n)\n",
    "bnvar_inv = (bnvar + 1e-5)**-0.5\n",
    "bnraw = bndiff * bnvar_inv\n",
    "hpreact = bngain * bnraw + bnbias\n",
    "# Non-linearity\n",
    "h = torch.tanh(hpreact) # hidden layer\n",
    "# Linear layer 2\n",
    "logits = h @ W2 + b2 # output layer\n",
    "# cross entropy loss (same as F.cross_entropy(logits, Yb))\n",
    "logit_maxes = logits.max(1, keepdim=True).values\n",
    "norm_logits = logits - logit_maxes # subtract max for numerical stability\n",
    "counts = norm_logits.exp()\n",
    "counts_sum = counts.sum(1, keepdims=True)\n",
    "counts_sum_inv = counts_sum**-1 # if I use (1.0 / counts_sum) instead then I can't get backprop to be bit exact...\n",
    "probs = counts * counts_sum_inv\n",
    "logprobs = probs.log()\n",
    "loss = -logprobs[range(n), Yb].mean()\n",
    "\n",
    "# PyTorch backward pass\n",
    "for p in parameters:\n",
    "  p.grad = None\n",
    "for t in [logprobs, probs, counts, counts_sum, counts_sum_inv, # afaik there is no cleaner way\n",
    "          norm_logits, logit_maxes, logits, h, hpreact, bnraw,\n",
    "         bnvar_inv, bnvar, bndiff2, bndiff, hprebn, bnmeani,\n",
    "         embcat, emb]:\n",
    "  t.retain_grad()# Exercise 2: backprop through cross_entropy but all in one go\n",
    "# to complete this challenge look at the mathematical expression of the loss,\n",
    "# take the derivative, simplify the expression, and just write it out\n",
    "\n",
    "# forward pass\n",
    "\n",
    "# before:\n",
    "# logit_maxes = logits.max(1, keepdim=True).values\n",
    "# norm_logits = logits - logit_maxes # subtract max for numerical stability\n",
    "# counts = norm_logits.exp()\n",
    "# counts_sum = counts.sum(1, keepdims=True)\n",
    "# counts_sum_inv = counts_sum**-1 # if I use (1.0 / counts_sum) instead then I can't get backprop to be bit exact...\n",
    "# probs = counts * counts_sum_inv\n",
    "# logprobs = probs.log()\n",
    "# loss = -logprobs[range(n), Yb].mean()\n",
    "\n",
    "# now:\n",
    "loss_fast = F.cross_entropy(logits, Yb)\n",
    "print(loss_fast.item(), 'diff:', (loss_fast - loss).item())\n",
    "\n",
    "# backward pass\n",
    "\n",
    "# -----------------\n",
    "# YOUR CODE HERE :)\n",
    "dlogits = None # TODO. my solution is 3 lines\n",
    "# -----------------\n",
    "\n",
    "#cmp('logits', dlogits, logits) # I can only get approximate to be true, my maxdiff is 6e-9\n",
    "loss.backward()\n",
    "loss"
   ]
  },
  {
   "cell_type": "code",
   "execution_count": 154,
   "metadata": {},
   "outputs": [
    {
     "data": {
      "text/plain": [
       "torch.Size([32, 1])"
      ]
     },
     "execution_count": 154,
     "metadata": {},
     "output_type": "execute_result"
    }
   ],
   "source": [
    "counts_sum_inv.shape"
   ]
  },
  {
   "cell_type": "code",
   "execution_count": 126,
   "metadata": {},
   "outputs": [
    {
     "data": {
      "text/plain": [
       "(torch.Size([32, 27]), torch.Size([32, 1]), torch.Size([32, 27]))"
      ]
     },
     "execution_count": 126,
     "metadata": {},
     "output_type": "execute_result"
    }
   ],
   "source": [
    "logits.shape, logit_maxes.shape, norm_logits.shape"
   ]
  },
  {
   "cell_type": "code",
   "execution_count": 271,
   "metadata": {},
   "outputs": [
    {
     "name": "stdout",
     "output_type": "stream",
     "text": [
      "logprobs        | exact: True  | approximate: True  | maxdiff: 0.0\n",
      "probs           | exact: True  | approximate: True  | maxdiff: 0.0\n",
      "counts_sum_inv  | exact: True  | approximate: True  | maxdiff: 0.0\n",
      "counts_sum      | exact: True  | approximate: True  | maxdiff: 0.0\n",
      "counts          | exact: True  | approximate: True  | maxdiff: 0.0\n",
      "norm_logits     | exact: True  | approximate: True  | maxdiff: 0.0\n",
      "logit_maxes     | exact: True  | approximate: True  | maxdiff: 0.0\n",
      "logits          | exact: False | approximate: True  | maxdiff: 1.3969838619232178e-08\n",
      "h               | exact: False | approximate: True  | maxdiff: 1.1175870895385742e-08\n",
      "W2              | exact: False | approximate: True  | maxdiff: 2.60770320892334e-08\n",
      "b2              | exact: False | approximate: True  | maxdiff: 2.3283064365386963e-08\n",
      "hpreact         | exact: False | approximate: True  | maxdiff: 7.916241884231567e-09\n",
      "bngain          | exact: False | approximate: True  | maxdiff: 6.51925802230835e-09\n",
      "bnbias          | exact: False | approximate: True  | maxdiff: 1.862645149230957e-08\n",
      "bnraw           | exact: False | approximate: True  | maxdiff: 9.080395102500916e-09\n",
      "bnvar_inv       | exact: False | approximate: True  | maxdiff: 1.210719347000122e-08\n",
      "bnvar           | exact: False | approximate: True  | maxdiff: 1.6298145055770874e-09\n",
      "bndiff2         | exact: False | approximate: True  | maxdiff: 5.820766091346741e-11\n",
      "bndiff          | exact: False | approximate: True  | maxdiff: 6.6356733441352844e-09\n",
      "bnmeani         | exact: False | approximate: True  | maxdiff: 1.6763806343078613e-08\n",
      "hprebn          | exact: False | approximate: True  | maxdiff: 6.28642737865448e-09\n",
      "embcat          | exact: False | approximate: True  | maxdiff: 1.234002411365509e-08\n",
      "W1              | exact: False | approximate: True  | maxdiff: 2.9685907065868378e-08\n",
      "b1              | exact: False | approximate: True  | maxdiff: 3.841705620288849e-09\n",
      "emb             | exact: False | approximate: True  | maxdiff: 1.234002411365509e-08\n",
      "C               | exact: False | approximate: True  | maxdiff: 2.0489096641540527e-08\n"
     ]
    }
   ],
   "source": [
    "# Exercise 1: backprop through the whole thing manually, \n",
    "# backpropagating through exactly all of the variables \n",
    "# as they are defined in the forward pass above, one by one\n",
    "\n",
    "# -----------------\n",
    "# YOUR CODE HERE :)\n",
    "# -----------------\n",
    "\n",
    "# Older implementations will be in comments in case the implementation needs to be changed\n",
    "\n",
    "dlogprobs = torch.zeros_like(logprobs)\n",
    "# dlogprobs = torch.zeros((logprobs.shape))\n",
    "dlogprobs[range(batch_size), Yb] = - 1/batch_size\n",
    "# for sample, y in zip(range(batch_size), Yb):\n",
    "#    dlogprobs[sample, y] = - 1/batch_size\n",
    "# The for loop is not needed in torch\n",
    "\n",
    "dprobs = dlogprobs * (1/probs)\n",
    "# dprobs = torch.zeros_like(probs)\n",
    "# dprobs[range(batch_size), Yb] = dlogprobs[range(batch_size), Yb] * (1/probs[range(batch_size), Yb])\n",
    "\n",
    "dcounts_sum_inv = (dprobs * counts).sum(1, keepdims = True)\n",
    "\n",
    "dcounts = counts_sum_inv * dprobs\n",
    "dcounts_sum = -1 / (torch.square(counts_sum)) * dcounts_sum_inv\n",
    "dcounts += dcounts_sum\n",
    "\n",
    "dnorm_logits = norm_logits.exp() * dcounts\n",
    "dlogit_maxes = -dnorm_logits.sum(1, keepdims=True)\n",
    "\n",
    "dlogits = dnorm_logits.clone()\n",
    "dlogits -= dlogit_maxes\n",
    "\n",
    "dh = dlogits @ W2.T\n",
    "dW2 = h.T @ dlogits\n",
    "db2 = dlogits.sum(0)\n",
    "\n",
    "dhpreact = dh * (torch.ones_like(h) - (h)**2)\n",
    "dbngain = (dhpreact * bnraw).sum(0, keepdims=True)\n",
    "dbnbias = dhpreact.sum(0, keepdims = True)\n",
    "dbnraw = dhpreact * bngain\n",
    "\n",
    "dbnvar_inv = (bndiff * dbnraw).sum(0, keepdims = True)\n",
    "\n",
    "dbnvar = dbnvar_inv * ((-(bnvar + epsilon)**-1.5)/2)\n",
    "\n",
    "dbndiff2 = 1/(n-1) * torch.ones_like(bndiff2) * dbnvar\n",
    "\n",
    "dbndiff = bnvar_inv * dbnraw\n",
    "dbndiff += 2 * bndiff * dbndiff2\n",
    "\n",
    "dbnmeani = -dbndiff.sum(0, keepdims = True)\n",
    "dhprebn = dbndiff.clone()\n",
    "dhprebn += 1/n * torch.ones_like(hprebn) * dbnmeani\n",
    "\n",
    "dembcat = dhprebn @ W1.T\n",
    "dW1 = embcat.T @ dhprebn\n",
    "db1 = dhprebn.sum(0, keepdims=True)\n",
    "\n",
    "demb = dembcat.view(emb.shape)\n",
    "dC = torch.zeros_like(C)\n",
    "for i in range(Xb.shape[0]):\n",
    "    for j in range(Xb.shape[1]):\n",
    "        ix = Xb[i,j]\n",
    "        dC[ix] += demb[i,j]\n",
    "\n",
    "cmp('logprobs', dlogprobs, logprobs)\n",
    "cmp('probs', dprobs, probs)\n",
    "cmp('counts_sum_inv', dcounts_sum_inv, counts_sum_inv)\n",
    "cmp('counts_sum', dcounts_sum, counts_sum)\n",
    "cmp('counts', dcounts, counts)\n",
    "cmp('norm_logits', dnorm_logits, norm_logits)\n",
    "cmp('logit_maxes', dlogit_maxes, logit_maxes)\n",
    "cmp('logits', dlogits, logits)\n",
    "cmp('h', dh, h)\n",
    "cmp('W2', dW2, W2)\n",
    "cmp('b2', db2, b2)\n",
    "cmp('hpreact', dhpreact, hpreact)\n",
    "cmp('bngain', dbngain, bngain)\n",
    "cmp('bnbias', dbnbias, bnbias)\n",
    "cmp('bnraw', dbnraw, bnraw)\n",
    "cmp('bnvar_inv', dbnvar_inv, bnvar_inv)\n",
    "cmp('bnvar', dbnvar, bnvar)\n",
    "cmp('bndiff2', dbndiff2, bndiff2)\n",
    "cmp('bndiff', dbndiff, bndiff)\n",
    "cmp('bnmeani', dbnmeani, bnmeani)\n",
    "cmp('hprebn', dhprebn, hprebn)\n",
    "cmp('embcat', dembcat, embcat)\n",
    "cmp('W1', dW1, W1)\n",
    "cmp('b1', db1, b1)\n",
    "cmp('emb', demb, emb)\n",
    "cmp('C', dC, C)"
   ]
  },
  {
   "cell_type": "code",
   "execution_count": 232,
   "metadata": {},
   "outputs": [
    {
     "data": {
      "text/plain": [
       "<matplotlib.image.AxesImage at 0x14d758760>"
      ]
     },
     "execution_count": 232,
     "metadata": {},
     "output_type": "execute_result"
    },
    {
     "data": {
      "image/png": "[encoded data removed]",
      "text/plain": [
       "<Figure size 432x288 with 1 Axes>"
      ]
     },
     "metadata": {
      "needs_background": "light"
     },
     "output_type": "display_data"
    }
   ],
   "source": [
    "plt.imshow((W2.grad - dW2)>1e-7, cmap = 'gray')"
   ]
  },
  {
   "cell_type": "code",
   "execution_count": 247,
   "metadata": {},
   "outputs": [
    {
     "data": {
      "text/plain": [
       "<matplotlib.image.AxesImage at 0x14d8fdfd0>"
      ]
     },
     "execution_count": 247,
     "metadata": {},
     "output_type": "execute_result"
    },
    {
     "data": {
      "image/png": "[encoded data removed]",
      "text/plain": [
       "<Figure size 432x288 with 1 Axes>"
      ]
     },
     "metadata": {
      "needs_background": "light"
     },
     "output_type": "display_data"
    }
   ],
   "source": [
    "plt.imshow((embcat.grad - dembcat)>1e-7, cmap = 'gray')"
   ]
  },
  {
   "cell_type": "code",
   "execution_count": 265,
   "metadata": {},
   "outputs": [
    {
     "data": {
      "text/plain": [
       "(torch.Size([27, 10]), torch.Size([32, 3]), torch.Size([32, 3, 10]))"
      ]
     },
     "execution_count": 265,
     "metadata": {},
     "output_type": "execute_result"
    }
   ],
   "source": [
    "C.shape, Xb.shape, emb.shape"
   ]
  },
  {
   "cell_type": "code",
   "execution_count": 272,
   "metadata": {},
   "outputs": [
    {
     "data": {
      "text/plain": [
       "torch.Size([32, 27])"
      ]
     },
     "execution_count": 272,
     "metadata": {},
     "output_type": "execute_result"
    }
   ],
   "source": [
    "logits.shape"
   ]
  },
  {
   "cell_type": "code",
   "execution_count": 279,
   "metadata": {},
   "outputs": [
    {
     "name": "stdout",
     "output_type": "stream",
     "text": [
      "3.4203014373779297 diff: 2.384185791015625e-07\n",
      "logits          | exact: False | approximate: True  | maxdiff: 6.51925802230835e-09\n"
     ]
    }
   ],
   "source": [
    "# Exercise 2: backprop through cross_entropy but all in one go\n",
    "# to complete this challenge look at the mathematical expression of the loss,\n",
    "# take the derivative, simplify the expression, and just write it out\n",
    "\n",
    "# forward pass\n",
    "\n",
    "# before:\n",
    "# logit_maxes = logits.max(1, keepdim=True).values\n",
    "# norm_logits = logits - logit_maxes # subtract max for numerical stability\n",
    "# counts = norm_logits.exp()\n",
    "# counts_sum = counts.sum(1, keepdims=True)\n",
    "# counts_sum_inv = counts_sum**-1 # if I use (1.0 / counts_sum) instead then I can't get backprop to be bit exact...\n",
    "# probs = counts * counts_sum_inv\n",
    "# logprobs = probs.log()\n",
    "# loss = -logprobs[range(n), Yb].mean()\n",
    "\n",
    "# now:\n",
    "loss_fast = F.cross_entropy(logits, Yb)\n",
    "print(loss_fast.item(), 'diff:', (loss_fast - loss).item())\n",
    "\n",
    "# backward pass\n",
    "\n",
    "# -----------------\n",
    "# YOUR CODE HERE :)\n",
    "dlogits = None # TODO. my solution is 3 lines\n",
    "# -----------------\n",
    "\n",
    "dlogits = 1/n * F.softmax(logits, dim=1)\n",
    "dlogits[range(len(Yb)),Yb] -= 1/n\n",
    "\n",
    "cmp('logits', dlogits, logits) # I can only get approximate to be true, my maxdiff is 6e-9"
   ]
  },
  {
   "cell_type": "code",
   "execution_count": 274,
   "metadata": {},
   "outputs": [
    {
     "data": {
      "text/plain": [
       "32"
      ]
     },
     "execution_count": 274,
     "metadata": {},
     "output_type": "execute_result"
    }
   ],
   "source": [
    "len(Yb)"
   ]
  },
  {
   "cell_type": "code",
   "execution_count": 281,
   "metadata": {},
   "outputs": [
    {
     "data": {
      "text/plain": [
       "torch.Size([32, 64])"
      ]
     },
     "execution_count": 281,
     "metadata": {},
     "output_type": "execute_result"
    }
   ],
   "source": [
    "hpreact.shape"
   ]
  },
  {
   "cell_type": "markdown",
   "metadata": {},
   "source": [
    "I am going to play around a bit to understand Bessel's correction"
   ]
  },
  {
   "cell_type": "code",
   "execution_count": 311,
   "metadata": {},
   "outputs": [
    {
     "data": {
      "text/plain": [
       "(tensor(0.0241), tensor(1.0088))"
      ]
     },
     "execution_count": 311,
     "metadata": {},
     "output_type": "execute_result"
    }
   ],
   "source": [
    "num_samples = 10000\n",
    "samples = torch.randn((num_samples,))\n",
    "samples.mean(), samples.var()"
   ]
  },
  {
   "cell_type": "code",
   "execution_count": 320,
   "metadata": {},
   "outputs": [],
   "source": [
    "biasedvars = []\n",
    "unbiasedvars = []\n",
    "for _ in range(10000):\n",
    "    smallSampleix = torch.randint(num_samples, (64,))\n",
    "    smallSample = samples[smallSampleix]\n",
    "    biasedvars.append(smallSample.var(unbiased=False))\n",
    "    unbiasedvars.append(smallSample.var(unbiased=True))"
   ]
  },
  {
   "cell_type": "code",
   "execution_count": 321,
   "metadata": {},
   "outputs": [
    {
     "data": {
      "text/plain": [
       "tensor(0.9921)"
      ]
     },
     "execution_count": 321,
     "metadata": {},
     "output_type": "execute_result"
    }
   ],
   "source": [
    "sum(biasedvars)/10000"
   ]
  },
  {
   "cell_type": "code",
   "execution_count": 322,
   "metadata": {},
   "outputs": [
    {
     "data": {
      "text/plain": [
       "tensor(1.0078)"
      ]
     },
     "execution_count": 322,
     "metadata": {},
     "output_type": "execute_result"
    }
   ],
   "source": [
    "sum(unbiasedvars)/10000"
   ]
  },
  {
   "cell_type": "code",
   "execution_count": 323,
   "metadata": {},
   "outputs": [
    {
     "data": {
      "image/png": "[encoded data removed]",
      "text/plain": [
       "<Figure size 432x288 with 1 Axes>"
      ]
     },
     "metadata": {
      "needs_background": "light"
     },
     "output_type": "display_data"
    }
   ],
   "source": [
    "plt.hist(unbiasedvars,bins=40);"
   ]
  },
  {
   "cell_type": "code",
   "execution_count": 324,
   "metadata": {},
   "outputs": [
    {
     "data": {
      "image/png": "[encoded data removed]",
      "text/plain": [
       "<Figure size 432x288 with 1 Axes>"
      ]
     },
     "metadata": {
      "needs_background": "light"
     },
     "output_type": "display_data"
    }
   ],
   "source": [
    "plt.hist(biasedvars,bins=40);"
   ]
  },
  {
   "cell_type": "code",
   "execution_count": 326,
   "metadata": {},
   "outputs": [
    {
     "data": {
      "text/plain": [
       "(torch.Size([32, 64]), torch.Size([32, 64]))"
      ]
     },
     "execution_count": 326,
     "metadata": {},
     "output_type": "execute_result"
    }
   ],
   "source": [
    "hprebn.shape, hpreact.shape"
   ]
  },
  {
   "cell_type": "code",
   "execution_count": 329,
   "metadata": {},
   "outputs": [
    {
     "data": {
      "text/plain": [
       "torch.Size([1, 64])"
      ]
     },
     "execution_count": 329,
     "metadata": {},
     "output_type": "execute_result"
    }
   ],
   "source": [
    "bnbias.shape"
   ]
  },
  {
   "cell_type": "code",
   "execution_count": 330,
   "metadata": {},
   "outputs": [
    {
     "data": {
      "text/plain": [
       "tensor([[-7.1213e-04, -3.8987e-05, -2.8595e-03,  ...,  1.7372e-03,\n",
       "         -6.0090e-04, -1.4034e-04],\n",
       "        [-6.1274e-04,  9.5163e-04,  1.4944e-03,  ...,  1.0453e-03,\n",
       "         -4.9984e-03,  5.1599e-04],\n",
       "        [ 4.7964e-04,  2.1950e-03,  1.2118e-03,  ..., -9.3275e-04,\n",
       "         -2.1857e-03,  1.5204e-03],\n",
       "        ...,\n",
       "        [-4.3875e-04,  3.1108e-04,  2.8374e-03,  ..., -1.6436e-03,\n",
       "          6.5802e-04,  1.1402e-03],\n",
       "        [ 6.6444e-04,  5.3180e-03,  2.6926e-04,  ...,  2.7807e-04,\n",
       "          9.5291e-05, -3.8349e-05],\n",
       "        [ 4.2304e-03, -2.7769e-04,  1.4421e-03,  ..., -1.4400e-03,\n",
       "          5.7057e-04, -4.0913e-04]], grad_fn=<MulBackward0>)"
      ]
     },
     "execution_count": 330,
     "metadata": {},
     "output_type": "execute_result"
    }
   ],
   "source": [
    "dhpreact"
   ]
  },
  {
   "cell_type": "code",
   "execution_count": null,
   "metadata": {},
   "outputs": [],
   "source": []
  }
 ],
 "metadata": {
  "kernelspec": {
   "display_name": "Python 3 (ipykernel)",
   "language": "python",
   "name": "python3"
  },
  "language_info": {
   "codemirror_mode": {
    "name": "ipython",
    "version": 3
   },
   "file_extension": ".py",
   "mimetype": "text/x-python",
   "name": "python",
   "nbconvert_exporter": "python",
   "pygments_lexer": "ipython3",
   "version": "3.10.14"
  }
 },
 "nbformat": 4,
 "nbformat_minor": 2
}
